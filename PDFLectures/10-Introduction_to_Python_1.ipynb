{
  "nbformat": 4,
  "nbformat_minor": 0,
  "metadata": {
    "colab": {
      "provenance": []
    },
    "kernelspec": {
      "name": "python3",
      "display_name": "Python 3"
    },
    "language_info": {
      "name": "python"
    }
  },
  "cells": [
    {
      "cell_type": "markdown",
      "source": [
        "# Introduction to Python and Google Colab\n",
        "## Mohanad Mohammed (mohanadadam32@gmail.com)"
      ],
      "metadata": {
        "id": "zB7SMRiN19Vs"
      }
    },
    {
      "cell_type": "markdown",
      "source": [
        "## What is Python?\n",
        "\n",
        "* Python is a widely used general-purpose, high level programming language.\n",
        "* It was created by Guido van Rossum in 1991 and further developed by the Python Software Foundation.\n",
        "* It was designed with an emphasis on code readability, and its syntax allows programmers to express their concepts in fewer lines of code.\n",
        "* Python is a programming language that lets you work quickly and integrate systems more efficiently."
      ],
      "metadata": {
        "id": "8-SjTPOT2FPq"
      }
    },
    {
      "cell_type": "markdown",
      "source": [
        "# Why Learn Python?\n",
        "* Flexibility in processing data\n",
        "* Fast becoming Data Science industry standard tool - a lot of support online\n",
        "* Relatively easier that other programming languages\n",
        "* Rich set of tools and libraries"
      ],
      "metadata": {
        "id": "202y2lQz2ajr"
      }
    },
    {
      "cell_type": "markdown",
      "source": [
        "# How to Get Started Using Python\n",
        "1. Install [Anaconda](https://www.anaconda.com/download) on your machine\n",
        "2. Create a Google account then access [Google Colab](https://colab.research.google.com/)\n",
        "3. Install an IDE such as [Pycharm](https://www.jetbrains.com/pycharm/download/)\n",
        "4. Consult Python [documentation](https://docs.python.org/)\n",
        "5. Prepare, Practise and Present"
      ],
      "metadata": {
        "id": "kWLC1LCrIqp8"
      }
    },
    {
      "cell_type": "markdown",
      "source": [
        "# Some Technical Terms\n",
        "* RAM, CPU, GPU and TPU\n",
        "* Runtime\n",
        "* Mount a drive\n",
        "* IDE\n",
        "* GitHub\n",
        "* Program, module and package\n",
        "* Jupyter notebooks vs labs"
      ],
      "metadata": {
        "id": "mzESxdgSIzMM"
      }
    },
    {
      "cell_type": "markdown",
      "source": [
        "# Notebooks\n",
        "* Comprise of cells (code and markdown) - to enable interactive presentations\n",
        "* Implemented as a webserver (on localhost, network or the internet e.g. Google Colab)\n",
        "* Run in a kernel that keeps track of program state\n",
        "* Can be exported to HTML, Latex and PDF\n",
        "* Can incorporate widgets for richer user interaction"
      ],
      "metadata": {
        "id": "QVLMb7rEI3-3"
      }
    },
    {
      "cell_type": "markdown",
      "source": [
        "# Google Colab\n",
        "* Generally hosted on Google Drive - notebooks are stored in *My Drive > Colab Notebooks*. Can also be saved to GitHub\n",
        "* Notebooks can be shared with other Google accounts via editor, viewer and commenter permission modes\n",
        "* Notebook settings include language (Python 3 or R) and accelerator (None, GPU or TPU)\n",
        "* Colab limitations:\n",
        " * resource availability is subject to demand\n",
        " * 12 hour session time limit\n",
        " * No warranties on resource robustness\n",
        " * No inbuilt persistant storage - temporary storage deleted at the end of the session"
      ],
      "metadata": {
        "id": "Rzzs5YkJI9Fv"
      }
    },
    {
      "cell_type": "markdown",
      "source": [
        "# Writing our first program:\n",
        "\n",
        "Just type in the following code after you start the interpreter."
      ],
      "metadata": {
        "id": "RqkkHIz5JCCj"
      }
    },
    {
      "cell_type": "code",
      "source": [
        "# Script Begins\n",
        "\n",
        "print(\"Hello World\")\n",
        "\n",
        "# Scripts Ends\n"
      ],
      "metadata": {
        "colab": {
          "base_uri": "https://localhost:8080/"
        },
        "id": "_BQtMsd7J40O",
        "outputId": "b8def064-7244-487a-8069-3ab2ead477a0"
      },
      "execution_count": null,
      "outputs": [
        {
          "output_type": "stream",
          "name": "stdout",
          "text": [
            "Hello World\n"
          ]
        }
      ]
    },
    {
      "cell_type": "markdown",
      "source": [
        "Let’s analyze the script line by line.\n",
        "\n",
        "**Line 1:** [# Script Begins] In Python, comments begin with a **#**. This statement is ignored by the interpreter and serves as documentation for our code.\n",
        "\n",
        "**Line 2:** [print(\"Hello World\")] To print something on the console, *print()* function is used. This function also adds a newline after our message is printed(unlike in C).\n",
        "\n",
        "Note that in Python 2, “print” is not a function but a keyword and therefore can be used without parentheses.\n",
        "\n",
        "However, in Python 3, it is a function and must be invoked with parentheses.\n",
        "\n",
        "**Line 3:** [# Script Ends] This is just another comment like in Line 1."
      ],
      "metadata": {
        "id": "L4rHTCNqKC5f"
      }
    },
    {
      "cell_type": "markdown",
      "source": [
        "# Using Python as a Calculator"
      ],
      "metadata": {
        "id": "4PiyhrDs1-zg"
      }
    },
    {
      "cell_type": "markdown",
      "source": [
        "## Numbers"
      ],
      "metadata": {
        "id": "bZETiQeGCyPo"
      }
    },
    {
      "cell_type": "markdown",
      "source": [
        "The interpreter acts as a simple calculator: you can type an expression at it and it will write the value. Expression syntax is straightforward: the operators `+`, `-`, `*` and `/` can be used to perform arithmetic; parentheses (`()`) can be used for grouping. For example:"
      ],
      "metadata": {
        "id": "tuOA3o2hCx7U"
      }
    },
    {
      "cell_type": "code",
      "source": [
        "2+2"
      ],
      "metadata": {
        "colab": {
          "base_uri": "https://localhost:8080/"
        },
        "id": "KnArIPPy1aWf",
        "outputId": "eddcb956-f70e-4d0b-fb93-c703532b4411"
      },
      "execution_count": null,
      "outputs": [
        {
          "output_type": "execute_result",
          "data": {
            "text/plain": [
              "4"
            ]
          },
          "metadata": {},
          "execution_count": 1
        }
      ]
    },
    {
      "cell_type": "code",
      "source": [
        "50 - 5*6"
      ],
      "metadata": {
        "colab": {
          "base_uri": "https://localhost:8080/"
        },
        "id": "hoYSw2Mx2dwn",
        "outputId": "2a5d64ba-0c08-472a-e9e9-67440ffddf24"
      },
      "execution_count": null,
      "outputs": [
        {
          "output_type": "execute_result",
          "data": {
            "text/plain": [
              "20"
            ]
          },
          "metadata": {},
          "execution_count": 2
        }
      ]
    },
    {
      "cell_type": "code",
      "source": [
        "(50 - 5*6) / 4"
      ],
      "metadata": {
        "colab": {
          "base_uri": "https://localhost:8080/"
        },
        "id": "IU-cy7_P2h-N",
        "outputId": "c2a649ab-79b0-4583-fd38-a72842cb2617"
      },
      "execution_count": null,
      "outputs": [
        {
          "output_type": "execute_result",
          "data": {
            "text/plain": [
              "5.0"
            ]
          },
          "metadata": {},
          "execution_count": 3
        }
      ]
    },
    {
      "cell_type": "code",
      "source": [
        "8 / 5  # division always returns a floating point number"
      ],
      "metadata": {
        "colab": {
          "base_uri": "https://localhost:8080/"
        },
        "id": "VtpFVAWC2mqu",
        "outputId": "d85ad990-bf61-44da-de4d-e08a60164790"
      },
      "execution_count": null,
      "outputs": [
        {
          "output_type": "execute_result",
          "data": {
            "text/plain": [
              "1.6"
            ]
          },
          "metadata": {},
          "execution_count": 4
        }
      ]
    },
    {
      "cell_type": "markdown",
      "source": [
        "The integer numbers (e.g. 2, 4, 20) have type int, the ones with a fractional part (e.g. 5.0, 1.6) have type float. We will see more about numeric types later in the session."
      ],
      "metadata": {
        "id": "rqZAsWsy2wPU"
      }
    },
    {
      "cell_type": "markdown",
      "source": [
        "Division (`/`) always returns a float. To do floor division and get an integer result you can use the `//` operator; to calculate the remainder you can use `%`:"
      ],
      "metadata": {
        "id": "0F_aVvES253U"
      }
    },
    {
      "cell_type": "code",
      "source": [
        "17 / 3  # classic division returns a float"
      ],
      "metadata": {
        "colab": {
          "base_uri": "https://localhost:8080/"
        },
        "id": "8DSm5jFp2vtl",
        "outputId": "56051415-711b-4248-96e4-f5fe317cac3f"
      },
      "execution_count": null,
      "outputs": [
        {
          "output_type": "execute_result",
          "data": {
            "text/plain": [
              "5.666666666666667"
            ]
          },
          "metadata": {},
          "execution_count": 5
        }
      ]
    },
    {
      "cell_type": "code",
      "source": [
        "17 // 3  # floor division discards the fractional part"
      ],
      "metadata": {
        "colab": {
          "base_uri": "https://localhost:8080/"
        },
        "id": "orhDbleP3FRW",
        "outputId": "f0b9d36c-4643-4872-84f1-aa215583daf5"
      },
      "execution_count": null,
      "outputs": [
        {
          "output_type": "execute_result",
          "data": {
            "text/plain": [
              "5"
            ]
          },
          "metadata": {},
          "execution_count": 6
        }
      ]
    },
    {
      "cell_type": "code",
      "source": [
        "17 % 3  # the % operator returns the remainder of the division"
      ],
      "metadata": {
        "colab": {
          "base_uri": "https://localhost:8080/"
        },
        "id": "CONantx43KBQ",
        "outputId": "c73e7a4a-44c0-4dd9-83e6-92015813e8a8"
      },
      "execution_count": null,
      "outputs": [
        {
          "output_type": "execute_result",
          "data": {
            "text/plain": [
              "2"
            ]
          },
          "metadata": {},
          "execution_count": 7
        }
      ]
    },
    {
      "cell_type": "code",
      "source": [
        "5 * 3 + 2  # floored quotient * divisor + remainder"
      ],
      "metadata": {
        "colab": {
          "base_uri": "https://localhost:8080/"
        },
        "id": "DX26P0MG3P19",
        "outputId": "e338cb6a-a1b8-4d47-ac91-a23ae1089b22"
      },
      "execution_count": null,
      "outputs": [
        {
          "output_type": "execute_result",
          "data": {
            "text/plain": [
              "17"
            ]
          },
          "metadata": {},
          "execution_count": 8
        }
      ]
    },
    {
      "cell_type": "markdown",
      "source": [
        "With Python, it is possible to use the `**` operator to calculate powers"
      ],
      "metadata": {
        "id": "QJnKcI0r3VVd"
      }
    },
    {
      "cell_type": "code",
      "source": [
        "5 ** 2  # 5 squared"
      ],
      "metadata": {
        "colab": {
          "base_uri": "https://localhost:8080/"
        },
        "id": "OOeAWqWq3UUW",
        "outputId": "a2d7645d-8d0a-4b3f-826e-a250f7f644ed"
      },
      "execution_count": null,
      "outputs": [
        {
          "output_type": "execute_result",
          "data": {
            "text/plain": [
              "25"
            ]
          },
          "metadata": {},
          "execution_count": 9
        }
      ]
    },
    {
      "cell_type": "code",
      "source": [
        "2 ** 7  # 2 to the power of 7"
      ],
      "metadata": {
        "colab": {
          "base_uri": "https://localhost:8080/"
        },
        "id": "9qDcFC-53bI-",
        "outputId": "5366069d-45a5-4e95-9fda-6111bf5c59e6"
      },
      "execution_count": null,
      "outputs": [
        {
          "output_type": "execute_result",
          "data": {
            "text/plain": [
              "128"
            ]
          },
          "metadata": {},
          "execution_count": 10
        }
      ]
    },
    {
      "cell_type": "markdown",
      "source": [
        "The equal sign (`=`) is used to assign a value to a variable. Afterwards, no result is displayed before the next interactive prompt:"
      ],
      "metadata": {
        "id": "4MTBIPpi3ibw"
      }
    },
    {
      "cell_type": "code",
      "source": [
        "width = 20"
      ],
      "metadata": {
        "id": "Itzacu1T3hch"
      },
      "execution_count": null,
      "outputs": []
    },
    {
      "cell_type": "code",
      "source": [
        "height = 5 * 9"
      ],
      "metadata": {
        "id": "sS-zvmIP3sJA"
      },
      "execution_count": null,
      "outputs": []
    },
    {
      "cell_type": "code",
      "source": [
        "width * height"
      ],
      "metadata": {
        "colab": {
          "base_uri": "https://localhost:8080/"
        },
        "id": "NNAxa12p3vSE",
        "outputId": "7faf5848-5e41-41ec-c964-747bef7c5686"
      },
      "execution_count": null,
      "outputs": [
        {
          "output_type": "execute_result",
          "data": {
            "text/plain": [
              "900"
            ]
          },
          "metadata": {},
          "execution_count": 13
        }
      ]
    },
    {
      "cell_type": "markdown",
      "source": [
        "If a variable is not “defined” (assigned a value), trying to use it will give you an error:"
      ],
      "metadata": {
        "id": "OxrInRb831mO"
      }
    },
    {
      "cell_type": "code",
      "source": [
        "n  # try to access an undefined variable"
      ],
      "metadata": {
        "colab": {
          "base_uri": "https://localhost:8080/",
          "height": 144
        },
        "id": "z7zkZuxW37mj",
        "outputId": "e7e1fdc7-e34a-46e2-c146-ab5c63a071d9"
      },
      "execution_count": null,
      "outputs": [
        {
          "output_type": "error",
          "ename": "NameError",
          "evalue": "name 'n' is not defined",
          "traceback": [
            "\u001b[0;31m---------------------------------------------------------------------------\u001b[0m",
            "\u001b[0;31mNameError\u001b[0m                                 Traceback (most recent call last)",
            "\u001b[0;32m<ipython-input-14-6268bfea6a2c>\u001b[0m in \u001b[0;36m<cell line: 1>\u001b[0;34m()\u001b[0m\n\u001b[0;32m----> 1\u001b[0;31m \u001b[0mn\u001b[0m  \u001b[0;31m# try to access an undefined variable\u001b[0m\u001b[0;34m\u001b[0m\u001b[0;34m\u001b[0m\u001b[0m\n\u001b[0m",
            "\u001b[0;31mNameError\u001b[0m: name 'n' is not defined"
          ]
        }
      ]
    },
    {
      "cell_type": "markdown",
      "source": [
        "There is full support for floating point; operators with mixed type operands convert the integer operand to floating point:"
      ],
      "metadata": {
        "id": "3zqsdXWE4D_c"
      }
    },
    {
      "cell_type": "code",
      "source": [
        "4 * 3.75 - 1"
      ],
      "metadata": {
        "colab": {
          "base_uri": "https://localhost:8080/"
        },
        "id": "rfkcImKb4DnM",
        "outputId": "bdbcbc54-7a09-44df-95f2-323ea4b7d19d"
      },
      "execution_count": null,
      "outputs": [
        {
          "output_type": "execute_result",
          "data": {
            "text/plain": [
              "14.0"
            ]
          },
          "metadata": {},
          "execution_count": 15
        }
      ]
    },
    {
      "cell_type": "markdown",
      "source": [
        "In interactive mode, the last printed expression is assigned to the variable `_`. This means that when you are using Python as a desk calculator, it is somewhat easier to continue calculations, for example:"
      ],
      "metadata": {
        "id": "nNsfKaic4MwR"
      }
    },
    {
      "cell_type": "code",
      "source": [
        "tax = 12.5 / 100"
      ],
      "metadata": {
        "id": "xvo1IhjI4Xra"
      },
      "execution_count": null,
      "outputs": []
    },
    {
      "cell_type": "code",
      "source": [
        "price = 100.50"
      ],
      "metadata": {
        "id": "v4URrQmj4ajs"
      },
      "execution_count": null,
      "outputs": []
    },
    {
      "cell_type": "code",
      "source": [
        "price * tax"
      ],
      "metadata": {
        "colab": {
          "base_uri": "https://localhost:8080/"
        },
        "id": "mcOlc2ag4bs3",
        "outputId": "5871838b-1ad1-43ea-93df-46aad23ae143"
      },
      "execution_count": null,
      "outputs": [
        {
          "output_type": "execute_result",
          "data": {
            "text/plain": [
              "12.5625"
            ]
          },
          "metadata": {},
          "execution_count": 18
        }
      ]
    },
    {
      "cell_type": "code",
      "source": [
        "price + _"
      ],
      "metadata": {
        "colab": {
          "base_uri": "https://localhost:8080/"
        },
        "id": "tch1AJKj4em7",
        "outputId": "c2b6998e-8d0f-4455-e5a2-da6be0e66ec9"
      },
      "execution_count": null,
      "outputs": [
        {
          "output_type": "execute_result",
          "data": {
            "text/plain": [
              "113.0625"
            ]
          },
          "metadata": {},
          "execution_count": 19
        }
      ]
    },
    {
      "cell_type": "code",
      "source": [
        "round(_, 2)"
      ],
      "metadata": {
        "colab": {
          "base_uri": "https://localhost:8080/"
        },
        "id": "x6cCAhQa4eYn",
        "outputId": "163efd0e-9257-4655-a040-46c015ec30e3"
      },
      "execution_count": null,
      "outputs": [
        {
          "output_type": "execute_result",
          "data": {
            "text/plain": [
              "113.06"
            ]
          },
          "metadata": {},
          "execution_count": 20
        }
      ]
    },
    {
      "cell_type": "markdown",
      "source": [
        "This variable should be treated as read-only by the user. Don’t explicitly assign a value to it — you would create an independent local variable with the same name masking the built-in variable with its magic behavior.\n",
        "\n",
        "In addition to int and float, Python supports other types of numbers, such as Decimal and Fraction. Python also has built-in support for complex numbers, and uses the `j` or `J` suffix to indicate the imaginary part (e.g. `3+5j`)."
      ],
      "metadata": {
        "id": "hKcmVfLD47f9"
      }
    },
    {
      "cell_type": "markdown",
      "source": [
        "## Text\n",
        "Python can manipulate text (represented by type `str`, so-called “strings”) as well as numbers. This includes characters “`!`”, words “`rabbit`”, names “`Paris`”, sentences “`Got your back.`”, etc. “`Yay! :)`”. They can be enclosed in single quotes (`'...'`) or double quotes (`\"...\"`) with the same result."
      ],
      "metadata": {
        "id": "T9PvHeLr5KDr"
      }
    },
    {
      "cell_type": "code",
      "source": [
        "'spam eggs'  # single quotes"
      ],
      "metadata": {
        "colab": {
          "base_uri": "https://localhost:8080/",
          "height": 35
        },
        "id": "F3vI0c144eNQ",
        "outputId": "5ffa69d0-6055-4280-b76f-267a561da038"
      },
      "execution_count": null,
      "outputs": [
        {
          "output_type": "execute_result",
          "data": {
            "text/plain": [
              "'spam eggs'"
            ],
            "application/vnd.google.colaboratory.intrinsic+json": {
              "type": "string"
            }
          },
          "metadata": {},
          "execution_count": 21
        }
      ]
    },
    {
      "cell_type": "code",
      "source": [
        "\"Paris rabbit got your back :)! Yay!\"  # double quotes"
      ],
      "metadata": {
        "colab": {
          "base_uri": "https://localhost:8080/",
          "height": 35
        },
        "id": "tdZlq9BV5suU",
        "outputId": "a2e3d475-469c-484c-9806-ae3eb4900a2c"
      },
      "execution_count": null,
      "outputs": [
        {
          "output_type": "execute_result",
          "data": {
            "text/plain": [
              "'Paris rabbit got your back :)! Yay!'"
            ],
            "application/vnd.google.colaboratory.intrinsic+json": {
              "type": "string"
            }
          },
          "metadata": {},
          "execution_count": 23
        }
      ]
    },
    {
      "cell_type": "code",
      "source": [
        "'1975'  # digits and numerals enclosed in quotes are also strings"
      ],
      "metadata": {
        "colab": {
          "base_uri": "https://localhost:8080/",
          "height": 35
        },
        "id": "Rm6nFwrq532z",
        "outputId": "ccfed7d8-20be-4598-ba98-81d096fd1f54"
      },
      "execution_count": null,
      "outputs": [
        {
          "output_type": "execute_result",
          "data": {
            "text/plain": [
              "'1975'"
            ],
            "application/vnd.google.colaboratory.intrinsic+json": {
              "type": "string"
            }
          },
          "metadata": {},
          "execution_count": 24
        }
      ]
    },
    {
      "cell_type": "markdown",
      "source": [
        "To quote a quote, we need to “escape” it, by preceding it with `\\`. Alternatively, we can use the other type of quotation marks:"
      ],
      "metadata": {
        "id": "QgXkIwoy5_I-"
      }
    },
    {
      "cell_type": "code",
      "source": [
        "'doesn\\'t'  # use \\' to escape the single quote..."
      ],
      "metadata": {
        "colab": {
          "base_uri": "https://localhost:8080/",
          "height": 35
        },
        "id": "zYdGiLCE6DcN",
        "outputId": "928591c4-4f30-41c5-aeec-4361303d6585"
      },
      "execution_count": null,
      "outputs": [
        {
          "output_type": "execute_result",
          "data": {
            "text/plain": [
              "\"doesn't\""
            ],
            "application/vnd.google.colaboratory.intrinsic+json": {
              "type": "string"
            }
          },
          "metadata": {},
          "execution_count": 25
        }
      ]
    },
    {
      "cell_type": "code",
      "source": [
        "\"doesn't\"  # ...or use double quotes instead"
      ],
      "metadata": {
        "colab": {
          "base_uri": "https://localhost:8080/",
          "height": 35
        },
        "id": "20TLCvvS6FPZ",
        "outputId": "baec8dd0-0572-4d67-de4a-c7e8d30a0ca5"
      },
      "execution_count": null,
      "outputs": [
        {
          "output_type": "execute_result",
          "data": {
            "text/plain": [
              "\"doesn't\""
            ],
            "application/vnd.google.colaboratory.intrinsic+json": {
              "type": "string"
            }
          },
          "metadata": {},
          "execution_count": 26
        }
      ]
    },
    {
      "cell_type": "code",
      "source": [
        "'\"Yes,\" they said.'"
      ],
      "metadata": {
        "colab": {
          "base_uri": "https://localhost:8080/",
          "height": 35
        },
        "id": "rd68fPHs6FL7",
        "outputId": "d117ad02-1b50-4aa3-a42a-12b63fd82889"
      },
      "execution_count": null,
      "outputs": [
        {
          "output_type": "execute_result",
          "data": {
            "text/plain": [
              "'\"Yes,\" they said.'"
            ],
            "application/vnd.google.colaboratory.intrinsic+json": {
              "type": "string"
            }
          },
          "metadata": {},
          "execution_count": 27
        }
      ]
    },
    {
      "cell_type": "code",
      "source": [
        "\"\\\"Yes,\\\" they said.\""
      ],
      "metadata": {
        "colab": {
          "base_uri": "https://localhost:8080/",
          "height": 35
        },
        "id": "eN2QgV3k6FES",
        "outputId": "0975ccab-e132-4105-f513-e40ee8a3c7f8"
      },
      "execution_count": null,
      "outputs": [
        {
          "output_type": "execute_result",
          "data": {
            "text/plain": [
              "'\"Yes,\" they said.'"
            ],
            "application/vnd.google.colaboratory.intrinsic+json": {
              "type": "string"
            }
          },
          "metadata": {},
          "execution_count": 28
        }
      ]
    },
    {
      "cell_type": "code",
      "source": [
        "'\"Isn\\'t,\" they said.'"
      ],
      "metadata": {
        "colab": {
          "base_uri": "https://localhost:8080/",
          "height": 35
        },
        "id": "RiFuIg286FA5",
        "outputId": "1d864122-4567-43ed-afc8-85b4dacd823d"
      },
      "execution_count": null,
      "outputs": [
        {
          "output_type": "execute_result",
          "data": {
            "text/plain": [
              "'\"Isn\\'t,\" they said.'"
            ],
            "application/vnd.google.colaboratory.intrinsic+json": {
              "type": "string"
            }
          },
          "metadata": {},
          "execution_count": 29
        }
      ]
    },
    {
      "cell_type": "markdown",
      "source": [
        "In the Python shell, the string definition and output string can look different. The `print()` function produces a more readable output, by omitting the enclosing quotes and by printing escaped and special characters:"
      ],
      "metadata": {
        "id": "wzt2ia_26W7b"
      }
    },
    {
      "cell_type": "code",
      "source": [
        "s = 'First line.\\nSecond line.'  # \\n means newline"
      ],
      "metadata": {
        "id": "bwfzcccm6Ewu"
      },
      "execution_count": null,
      "outputs": []
    },
    {
      "cell_type": "code",
      "source": [
        "s  # without print(), special characters are included in the string"
      ],
      "metadata": {
        "colab": {
          "base_uri": "https://localhost:8080/",
          "height": 35
        },
        "id": "YIYlYqsr6EhP",
        "outputId": "b7aa315f-eab0-4b77-b1a6-6467080ffcca"
      },
      "execution_count": null,
      "outputs": [
        {
          "output_type": "execute_result",
          "data": {
            "text/plain": [
              "'First line.\\nSecond line.'"
            ],
            "application/vnd.google.colaboratory.intrinsic+json": {
              "type": "string"
            }
          },
          "metadata": {},
          "execution_count": 31
        }
      ]
    },
    {
      "cell_type": "code",
      "source": [
        "print(s)  # with print(), special characters are interpreted, so \\n produces new line"
      ],
      "metadata": {
        "colab": {
          "base_uri": "https://localhost:8080/"
        },
        "id": "nxvyqLGl6EWy",
        "outputId": "44ae9b9f-5f94-448d-c162-2c8913a4c5a4"
      },
      "execution_count": null,
      "outputs": [
        {
          "output_type": "stream",
          "name": "stdout",
          "text": [
            "First line.\n",
            "Second line.\n"
          ]
        }
      ]
    },
    {
      "cell_type": "markdown",
      "source": [
        "If you don’t want characters prefaced by `\\` to be interpreted as special characters, you can use raw strings by adding an r before the first quote:"
      ],
      "metadata": {
        "id": "SqN12efH7QQk"
      }
    },
    {
      "cell_type": "code",
      "source": [
        "print('C:\\some\\name')  # here \\n means newline!"
      ],
      "metadata": {
        "colab": {
          "base_uri": "https://localhost:8080/"
        },
        "id": "AEb7cAsP6EMZ",
        "outputId": "3305380f-3bfe-48db-eda9-cf9c6f408d6a"
      },
      "execution_count": null,
      "outputs": [
        {
          "output_type": "stream",
          "name": "stdout",
          "text": [
            "C:\\some\n",
            "ame\n"
          ]
        }
      ]
    },
    {
      "cell_type": "code",
      "source": [
        "print(r'C:\\some\\name')  # note the r before the quote"
      ],
      "metadata": {
        "colab": {
          "base_uri": "https://localhost:8080/"
        },
        "id": "F7vhErzi6D-j",
        "outputId": "75792f61-d1e8-4d63-ffb6-c23250f6b83c"
      },
      "execution_count": null,
      "outputs": [
        {
          "output_type": "stream",
          "name": "stdout",
          "text": [
            "C:\\some\\name\n"
          ]
        }
      ]
    },
    {
      "cell_type": "markdown",
      "source": [
        "String literals can span multiple lines. One way is using triple-quotes: `\"\"\"...\"\"\"` or `'''...'''`. End of lines are automatically included in the string, but it’s possible to prevent this by adding a `\\` at the end of the line. The following example:"
      ],
      "metadata": {
        "id": "Hmsq5IGd76Ge"
      }
    },
    {
      "cell_type": "code",
      "source": [
        "print(\"\"\"\\\n",
        "Usage: thingy [OPTIONS]\n",
        "     -h                        Display this usage message\n",
        "     -H hostname               Hostname to connect to\n",
        "\"\"\")"
      ],
      "metadata": {
        "colab": {
          "base_uri": "https://localhost:8080/"
        },
        "id": "KeeNLQZu8BZO",
        "outputId": "900cb49a-1d26-4cc3-b1bc-e09fc3ce8496"
      },
      "execution_count": null,
      "outputs": [
        {
          "output_type": "stream",
          "name": "stdout",
          "text": [
            "Usage: thingy [OPTIONS]\n",
            "     -h                        Display this usage message\n",
            "     -H hostname               Hostname to connect to\n",
            "\n"
          ]
        }
      ]
    },
    {
      "cell_type": "markdown",
      "source": [
        "Strings can be concatenated (glued together) with the `+` operator, and repeated with `*`:"
      ],
      "metadata": {
        "id": "Gc96GDT88gQz"
      }
    },
    {
      "cell_type": "code",
      "source": [
        "# 3 times 'un', followed by 'ium'\n",
        "3 * 'un' + 'ium'"
      ],
      "metadata": {
        "colab": {
          "base_uri": "https://localhost:8080/",
          "height": 35
        },
        "id": "p_pZ75ko8jDr",
        "outputId": "1b63593d-e4bb-4e69-8153-20b6b3fab38e"
      },
      "execution_count": null,
      "outputs": [
        {
          "output_type": "execute_result",
          "data": {
            "text/plain": [
              "'unununium'"
            ],
            "application/vnd.google.colaboratory.intrinsic+json": {
              "type": "string"
            }
          },
          "metadata": {},
          "execution_count": 36
        }
      ]
    },
    {
      "cell_type": "markdown",
      "source": [
        "Two or more string literals (i.e. the ones enclosed between quotes) next to each other are automatically concatenated."
      ],
      "metadata": {
        "id": "upL5k4w58slX"
      }
    },
    {
      "cell_type": "code",
      "source": [
        "'Py' 'thon'"
      ],
      "metadata": {
        "colab": {
          "base_uri": "https://localhost:8080/",
          "height": 35
        },
        "id": "34JGOXu48kM7",
        "outputId": "7e9839d3-469c-4ff7-c4fe-0956e8f16843"
      },
      "execution_count": null,
      "outputs": [
        {
          "output_type": "execute_result",
          "data": {
            "text/plain": [
              "'Python'"
            ],
            "application/vnd.google.colaboratory.intrinsic+json": {
              "type": "string"
            }
          },
          "metadata": {},
          "execution_count": 37
        }
      ]
    },
    {
      "cell_type": "markdown",
      "source": [
        "This feature is particularly useful when you want to break long strings:"
      ],
      "metadata": {
        "id": "N8AA0ovr86TN"
      }
    },
    {
      "cell_type": "code",
      "source": [
        "text = ('Put several strings within parentheses '\n",
        "        'to have them joined together.')\n",
        "text"
      ],
      "metadata": {
        "colab": {
          "base_uri": "https://localhost:8080/",
          "height": 35
        },
        "id": "l_I_BzeK8kJi",
        "outputId": "4e6e8717-bde8-4403-e498-0b5fdeabcc18"
      },
      "execution_count": null,
      "outputs": [
        {
          "output_type": "execute_result",
          "data": {
            "text/plain": [
              "'Put several strings within parentheses to have them joined together.'"
            ],
            "application/vnd.google.colaboratory.intrinsic+json": {
              "type": "string"
            }
          },
          "metadata": {},
          "execution_count": 38
        }
      ]
    },
    {
      "cell_type": "markdown",
      "source": [
        "This only works with two literals though, not with variables or expressions:"
      ],
      "metadata": {
        "id": "Is4w8mDu9Ddq"
      }
    },
    {
      "cell_type": "code",
      "source": [
        "prefix = 'Py'"
      ],
      "metadata": {
        "id": "k3puxH3Y96SD"
      },
      "execution_count": null,
      "outputs": []
    },
    {
      "cell_type": "code",
      "source": [
        "prefix 'thon'  # can't concatenate a variable and a string literal"
      ],
      "metadata": {
        "colab": {
          "base_uri": "https://localhost:8080/",
          "height": 108
        },
        "id": "_NV2m0kq8kDt",
        "outputId": "5da782d0-6f3a-4752-b7b9-e7aa62df7c46"
      },
      "execution_count": null,
      "outputs": [
        {
          "output_type": "error",
          "ename": "SyntaxError",
          "evalue": "invalid syntax (<ipython-input-46-c5901e312aa3>, line 1)",
          "traceback": [
            "\u001b[0;36m  File \u001b[0;32m\"<ipython-input-46-c5901e312aa3>\"\u001b[0;36m, line \u001b[0;32m1\u001b[0m\n\u001b[0;31m    prefix 'thon'  # can't concatenate a variable and a string literal\u001b[0m\n\u001b[0m           ^\u001b[0m\n\u001b[0;31mSyntaxError\u001b[0m\u001b[0;31m:\u001b[0m invalid syntax\n"
          ]
        }
      ]
    },
    {
      "cell_type": "code",
      "source": [
        "('un' * 3) 'ium'"
      ],
      "metadata": {
        "colab": {
          "base_uri": "https://localhost:8080/",
          "height": 108
        },
        "id": "pVMrcZmi8kAM",
        "outputId": "6de93a8a-e67a-42ec-b8bf-0c35e306063b"
      },
      "execution_count": null,
      "outputs": [
        {
          "output_type": "error",
          "ename": "SyntaxError",
          "evalue": "invalid syntax (<ipython-input-42-f4764cbe42a8>, line 1)",
          "traceback": [
            "\u001b[0;36m  File \u001b[0;32m\"<ipython-input-42-f4764cbe42a8>\"\u001b[0;36m, line \u001b[0;32m1\u001b[0m\n\u001b[0;31m    ('un' * 3) 'ium'\u001b[0m\n\u001b[0m               ^\u001b[0m\n\u001b[0;31mSyntaxError\u001b[0m\u001b[0;31m:\u001b[0m invalid syntax\n"
          ]
        }
      ]
    },
    {
      "cell_type": "markdown",
      "source": [
        "If you want to concatenate variables or a variable and a literal, use `+`:"
      ],
      "metadata": {
        "id": "3e5unC8l9w4v"
      }
    },
    {
      "cell_type": "code",
      "source": [
        "prefix + 'thon'"
      ],
      "metadata": {
        "colab": {
          "base_uri": "https://localhost:8080/",
          "height": 35
        },
        "id": "FdJJ5VU18j9m",
        "outputId": "78bc7b2e-b6d8-46c0-acdc-b1e758a687c1"
      },
      "execution_count": null,
      "outputs": [
        {
          "output_type": "execute_result",
          "data": {
            "text/plain": [
              "'Python'"
            ],
            "application/vnd.google.colaboratory.intrinsic+json": {
              "type": "string"
            }
          },
          "metadata": {},
          "execution_count": 47
        }
      ]
    },
    {
      "cell_type": "markdown",
      "source": [
        "Strings can be indexed (subscripted), with the first character having index 0. There is no separate character type; a character is simply a string of size one:"
      ],
      "metadata": {
        "id": "qshoTuXU-CRf"
      }
    },
    {
      "cell_type": "code",
      "source": [
        "word = 'Python'"
      ],
      "metadata": {
        "id": "wHrmSeGR8j6v"
      },
      "execution_count": null,
      "outputs": []
    },
    {
      "cell_type": "code",
      "source": [
        "word[0]  # character in position 0"
      ],
      "metadata": {
        "colab": {
          "base_uri": "https://localhost:8080/",
          "height": 35
        },
        "id": "p5I90LLj8j36",
        "outputId": "e65d5346-08dd-40a2-a917-06f924b0da97"
      },
      "execution_count": null,
      "outputs": [
        {
          "output_type": "execute_result",
          "data": {
            "text/plain": [
              "'P'"
            ],
            "application/vnd.google.colaboratory.intrinsic+json": {
              "type": "string"
            }
          },
          "metadata": {},
          "execution_count": 49
        }
      ]
    },
    {
      "cell_type": "code",
      "source": [
        "word[5]  # character in position 5"
      ],
      "metadata": {
        "colab": {
          "base_uri": "https://localhost:8080/",
          "height": 35
        },
        "id": "NNfnZFE18j07",
        "outputId": "35c44fad-2a4c-4871-e309-70cb56ea0d48"
      },
      "execution_count": null,
      "outputs": [
        {
          "output_type": "execute_result",
          "data": {
            "text/plain": [
              "'n'"
            ],
            "application/vnd.google.colaboratory.intrinsic+json": {
              "type": "string"
            }
          },
          "metadata": {},
          "execution_count": 50
        }
      ]
    },
    {
      "cell_type": "markdown",
      "source": [
        "Indices may also be negative numbers, to start counting from the right:"
      ],
      "metadata": {
        "id": "YhQe2_DE-OUo"
      }
    },
    {
      "cell_type": "code",
      "source": [
        "word[-1]  # last character"
      ],
      "metadata": {
        "colab": {
          "base_uri": "https://localhost:8080/",
          "height": 35
        },
        "id": "TRXDiaSM8jx1",
        "outputId": "9744a131-f555-458b-e58e-596c31e9606f"
      },
      "execution_count": null,
      "outputs": [
        {
          "output_type": "execute_result",
          "data": {
            "text/plain": [
              "'n'"
            ],
            "application/vnd.google.colaboratory.intrinsic+json": {
              "type": "string"
            }
          },
          "metadata": {},
          "execution_count": 51
        }
      ]
    },
    {
      "cell_type": "code",
      "source": [
        "word[-2]  # second-last character"
      ],
      "metadata": {
        "colab": {
          "base_uri": "https://localhost:8080/",
          "height": 35
        },
        "id": "LXHzK8xw8juJ",
        "outputId": "a66d6121-9b8a-4ade-bd0c-5d4745c4bb15"
      },
      "execution_count": null,
      "outputs": [
        {
          "output_type": "execute_result",
          "data": {
            "text/plain": [
              "'o'"
            ],
            "application/vnd.google.colaboratory.intrinsic+json": {
              "type": "string"
            }
          },
          "metadata": {},
          "execution_count": 52
        }
      ]
    },
    {
      "cell_type": "code",
      "source": [
        "word[-6]"
      ],
      "metadata": {
        "colab": {
          "base_uri": "https://localhost:8080/",
          "height": 35
        },
        "id": "S_9AWfeO8jqr",
        "outputId": "8073073b-e216-45cd-eb00-f8ac575c0179"
      },
      "execution_count": null,
      "outputs": [
        {
          "output_type": "execute_result",
          "data": {
            "text/plain": [
              "'P'"
            ],
            "application/vnd.google.colaboratory.intrinsic+json": {
              "type": "string"
            }
          },
          "metadata": {},
          "execution_count": 53
        }
      ]
    },
    {
      "cell_type": "markdown",
      "source": [
        "Note that since -0 is the same as 0, negative indices start from -1.\n",
        "\n",
        "In addition to indexing, slicing is also supported. While indexing is used to obtain individual characters, slicing allows you to obtain a substring:"
      ],
      "metadata": {
        "id": "EdYMtBWK_qnr"
      }
    },
    {
      "cell_type": "code",
      "source": [
        "word[0:2]  # characters from position 0 (included) to 2 (excluded)"
      ],
      "metadata": {
        "colab": {
          "base_uri": "https://localhost:8080/",
          "height": 35
        },
        "id": "8fsYFPbW_r1Y",
        "outputId": "e8452180-ee6e-46b5-e7f6-56af592e44fb"
      },
      "execution_count": null,
      "outputs": [
        {
          "output_type": "execute_result",
          "data": {
            "text/plain": [
              "'Py'"
            ],
            "application/vnd.google.colaboratory.intrinsic+json": {
              "type": "string"
            }
          },
          "metadata": {},
          "execution_count": 54
        }
      ]
    },
    {
      "cell_type": "code",
      "source": [
        "word[2:5]  # characters from position 2 (included) to 5 (excluded)"
      ],
      "metadata": {
        "colab": {
          "base_uri": "https://localhost:8080/",
          "height": 35
        },
        "id": "PkswSWj3_tYm",
        "outputId": "ea843170-e3ce-4c9a-f548-e3fc94347d3d"
      },
      "execution_count": null,
      "outputs": [
        {
          "output_type": "execute_result",
          "data": {
            "text/plain": [
              "'tho'"
            ],
            "application/vnd.google.colaboratory.intrinsic+json": {
              "type": "string"
            }
          },
          "metadata": {},
          "execution_count": 55
        }
      ]
    },
    {
      "cell_type": "markdown",
      "source": [
        "Slice indices have useful defaults; an omitted first index defaults to zero, an omitted second index defaults to the size of the string being sliced."
      ],
      "metadata": {
        "id": "TC92r_zp_-bY"
      }
    },
    {
      "cell_type": "code",
      "source": [
        "word[:2]   # character from the beginning to position 2 (excluded)"
      ],
      "metadata": {
        "colab": {
          "base_uri": "https://localhost:8080/",
          "height": 35
        },
        "id": "eUYg0A6c_tVI",
        "outputId": "74e962ac-7804-4a8c-8a0a-fe231ee46885"
      },
      "execution_count": null,
      "outputs": [
        {
          "output_type": "execute_result",
          "data": {
            "text/plain": [
              "'Py'"
            ],
            "application/vnd.google.colaboratory.intrinsic+json": {
              "type": "string"
            }
          },
          "metadata": {},
          "execution_count": 56
        }
      ]
    },
    {
      "cell_type": "code",
      "source": [
        "word[4:]   # characters from position 4 (included) to the end"
      ],
      "metadata": {
        "colab": {
          "base_uri": "https://localhost:8080/",
          "height": 35
        },
        "id": "vo-guDHv_tS2",
        "outputId": "10d62eb8-292e-461c-805d-f434e5ca6248"
      },
      "execution_count": null,
      "outputs": [
        {
          "output_type": "execute_result",
          "data": {
            "text/plain": [
              "'on'"
            ],
            "application/vnd.google.colaboratory.intrinsic+json": {
              "type": "string"
            }
          },
          "metadata": {},
          "execution_count": 57
        }
      ]
    },
    {
      "cell_type": "code",
      "source": [
        "word[-2:]  # characters from the second-last (included) to the end"
      ],
      "metadata": {
        "colab": {
          "base_uri": "https://localhost:8080/",
          "height": 35
        },
        "id": "r1pW0L-n_tQV",
        "outputId": "7a652f6e-2e47-4286-ad05-36e771708e1e"
      },
      "execution_count": null,
      "outputs": [
        {
          "output_type": "execute_result",
          "data": {
            "text/plain": [
              "'on'"
            ],
            "application/vnd.google.colaboratory.intrinsic+json": {
              "type": "string"
            }
          },
          "metadata": {},
          "execution_count": 58
        }
      ]
    },
    {
      "cell_type": "markdown",
      "source": [
        "Note how the start is always included, and the end always excluded. This makes sure that `s[:i] + s[i:]` is always equal to `s`:"
      ],
      "metadata": {
        "id": "W_1neCWjATk6"
      }
    },
    {
      "cell_type": "code",
      "source": [
        "word[:2] + word[2:]"
      ],
      "metadata": {
        "colab": {
          "base_uri": "https://localhost:8080/",
          "height": 35
        },
        "id": "MkN6fqp4_syw",
        "outputId": "331d19a4-2838-462e-8e99-3d3541f52dc5"
      },
      "execution_count": null,
      "outputs": [
        {
          "output_type": "execute_result",
          "data": {
            "text/plain": [
              "'Python'"
            ],
            "application/vnd.google.colaboratory.intrinsic+json": {
              "type": "string"
            }
          },
          "metadata": {},
          "execution_count": 59
        }
      ]
    },
    {
      "cell_type": "code",
      "source": [
        "word[:4] + word[4:]"
      ],
      "metadata": {
        "colab": {
          "base_uri": "https://localhost:8080/",
          "height": 35
        },
        "id": "Kc9qNX56_svR",
        "outputId": "8f6b84b0-ed67-44f9-f954-89550f9becc6"
      },
      "execution_count": null,
      "outputs": [
        {
          "output_type": "execute_result",
          "data": {
            "text/plain": [
              "'Python'"
            ],
            "application/vnd.google.colaboratory.intrinsic+json": {
              "type": "string"
            }
          },
          "metadata": {},
          "execution_count": 60
        }
      ]
    },
    {
      "cell_type": "markdown",
      "source": [
        "One way to remember how slices work is to think of the indices as pointing between characters, with the left edge of the first character numbered 0. Then the right edge of the last character of a string of *n* characters has index *n*, for example:"
      ],
      "metadata": {
        "id": "4Rikrt7LAjRW"
      }
    },
    {
      "cell_type": "markdown",
      "source": [
        "+---+---+---+---+---+---+ \\\\\n",
        "| P | y | t | h | o | n | \\\\\n",
        " +---+---+---+---+---+---+ \\\\\n",
        " 0  1   2   3   4   5   6 \\\\\n",
        "-6  -5  -4  -3  -2  -1"
      ],
      "metadata": {
        "id": "jF5UL__fAkNa"
      }
    },
    {
      "cell_type": "markdown",
      "source": [
        "The first row of numbers gives the position of the indices 0…6 in the string; the second row gives the corresponding negative indices. The slice from *i* to *j* consists of all characters between the edges labeled *i* and *j*, respectively."
      ],
      "metadata": {
        "id": "cHAU0q3CBJIh"
      }
    },
    {
      "cell_type": "markdown",
      "source": [
        "For non-negative indices, the length of a slice is the difference of the indices, if both are within bounds. For example, the length of `word[1:3]` is 2."
      ],
      "metadata": {
        "id": "CFiOxO3nBQ_s"
      }
    },
    {
      "cell_type": "markdown",
      "source": [
        "Attempting to use an index that is too large will result in an error:"
      ],
      "metadata": {
        "id": "dLSbrv89BgD5"
      }
    },
    {
      "cell_type": "code",
      "source": [
        "word[42]  # the word only has 6 characters"
      ],
      "metadata": {
        "colab": {
          "base_uri": "https://localhost:8080/",
          "height": 144
        },
        "id": "danjmvHR_ssb",
        "outputId": "0025b66a-4e55-4ac6-f1dc-935c6128d4eb"
      },
      "execution_count": null,
      "outputs": [
        {
          "output_type": "error",
          "ename": "IndexError",
          "evalue": "string index out of range",
          "traceback": [
            "\u001b[0;31m---------------------------------------------------------------------------\u001b[0m",
            "\u001b[0;31mIndexError\u001b[0m                                Traceback (most recent call last)",
            "\u001b[0;32m<ipython-input-61-469c6d99b5b2>\u001b[0m in \u001b[0;36m<cell line: 1>\u001b[0;34m()\u001b[0m\n\u001b[0;32m----> 1\u001b[0;31m \u001b[0mword\u001b[0m\u001b[0;34m[\u001b[0m\u001b[0;36m42\u001b[0m\u001b[0;34m]\u001b[0m  \u001b[0;31m# the word only has 6 characters\u001b[0m\u001b[0;34m\u001b[0m\u001b[0;34m\u001b[0m\u001b[0m\n\u001b[0m",
            "\u001b[0;31mIndexError\u001b[0m: string index out of range"
          ]
        }
      ]
    },
    {
      "cell_type": "markdown",
      "source": [
        "However, out of range slice indexes are handled gracefully when used for slicing:"
      ],
      "metadata": {
        "id": "mY9Pq2uvBp3n"
      }
    },
    {
      "cell_type": "code",
      "source": [
        "word[4:42]"
      ],
      "metadata": {
        "colab": {
          "base_uri": "https://localhost:8080/",
          "height": 35
        },
        "id": "0inPQYXk_sp5",
        "outputId": "1e88375d-387e-4eac-fe2b-edf959efff37"
      },
      "execution_count": null,
      "outputs": [
        {
          "output_type": "execute_result",
          "data": {
            "text/plain": [
              "'on'"
            ],
            "application/vnd.google.colaboratory.intrinsic+json": {
              "type": "string"
            }
          },
          "metadata": {},
          "execution_count": 62
        }
      ]
    },
    {
      "cell_type": "code",
      "source": [
        "word[42:]"
      ],
      "metadata": {
        "colab": {
          "base_uri": "https://localhost:8080/",
          "height": 35
        },
        "id": "leGUsoDL_snT",
        "outputId": "94c700e0-d285-473b-f6a6-9a8b00e0008c"
      },
      "execution_count": null,
      "outputs": [
        {
          "output_type": "execute_result",
          "data": {
            "text/plain": [
              "''"
            ],
            "application/vnd.google.colaboratory.intrinsic+json": {
              "type": "string"
            }
          },
          "metadata": {},
          "execution_count": 63
        }
      ]
    },
    {
      "cell_type": "markdown",
      "source": [
        "Python strings cannot be changed — they are **immutable**. Therefore, assigning to an indexed position in the string results in an error:"
      ],
      "metadata": {
        "id": "P2-WzI_ZB4CZ"
      }
    },
    {
      "cell_type": "code",
      "source": [
        "word[0] = 'J'"
      ],
      "metadata": {
        "colab": {
          "base_uri": "https://localhost:8080/",
          "height": 144
        },
        "id": "arKOo3y1_skc",
        "outputId": "16c980d1-d003-4936-b4a1-d8a4ffaf0d3e"
      },
      "execution_count": null,
      "outputs": [
        {
          "output_type": "error",
          "ename": "TypeError",
          "evalue": "'str' object does not support item assignment",
          "traceback": [
            "\u001b[0;31m---------------------------------------------------------------------------\u001b[0m",
            "\u001b[0;31mTypeError\u001b[0m                                 Traceback (most recent call last)",
            "\u001b[0;32m<ipython-input-64-91a956888ca7>\u001b[0m in \u001b[0;36m<cell line: 1>\u001b[0;34m()\u001b[0m\n\u001b[0;32m----> 1\u001b[0;31m \u001b[0mword\u001b[0m\u001b[0;34m[\u001b[0m\u001b[0;36m0\u001b[0m\u001b[0;34m]\u001b[0m \u001b[0;34m=\u001b[0m \u001b[0;34m'J'\u001b[0m\u001b[0;34m\u001b[0m\u001b[0;34m\u001b[0m\u001b[0m\n\u001b[0m",
            "\u001b[0;31mTypeError\u001b[0m: 'str' object does not support item assignment"
          ]
        }
      ]
    },
    {
      "cell_type": "code",
      "source": [
        "word[2:] = 'py'"
      ],
      "metadata": {
        "colab": {
          "base_uri": "https://localhost:8080/",
          "height": 144
        },
        "id": "73RiAC8H_shj",
        "outputId": "f72413a6-361a-41f9-c857-790ce3a6823b"
      },
      "execution_count": null,
      "outputs": [
        {
          "output_type": "error",
          "ename": "TypeError",
          "evalue": "'str' object does not support item assignment",
          "traceback": [
            "\u001b[0;31m---------------------------------------------------------------------------\u001b[0m",
            "\u001b[0;31mTypeError\u001b[0m                                 Traceback (most recent call last)",
            "\u001b[0;32m<ipython-input-65-6488bbf78f5a>\u001b[0m in \u001b[0;36m<cell line: 1>\u001b[0;34m()\u001b[0m\n\u001b[0;32m----> 1\u001b[0;31m \u001b[0mword\u001b[0m\u001b[0;34m[\u001b[0m\u001b[0;36m2\u001b[0m\u001b[0;34m:\u001b[0m\u001b[0;34m]\u001b[0m \u001b[0;34m=\u001b[0m \u001b[0;34m'py'\u001b[0m\u001b[0;34m\u001b[0m\u001b[0;34m\u001b[0m\u001b[0m\n\u001b[0m",
            "\u001b[0;31mTypeError\u001b[0m: 'str' object does not support item assignment"
          ]
        }
      ]
    },
    {
      "cell_type": "markdown",
      "source": [
        "If you need a different string, you should create a new one:"
      ],
      "metadata": {
        "id": "Uqz3w1fmCHUg"
      }
    },
    {
      "cell_type": "code",
      "source": [
        "'J' + word[1:]"
      ],
      "metadata": {
        "colab": {
          "base_uri": "https://localhost:8080/",
          "height": 35
        },
        "id": "8J7N-yHl_sWv",
        "outputId": "65740e0d-3988-4f06-a4ba-31d53ca44165"
      },
      "execution_count": null,
      "outputs": [
        {
          "output_type": "execute_result",
          "data": {
            "text/plain": [
              "'Jython'"
            ],
            "application/vnd.google.colaboratory.intrinsic+json": {
              "type": "string"
            }
          },
          "metadata": {},
          "execution_count": 66
        }
      ]
    },
    {
      "cell_type": "code",
      "source": [
        "word[:2] + 'py'"
      ],
      "metadata": {
        "colab": {
          "base_uri": "https://localhost:8080/",
          "height": 35
        },
        "id": "3KjypxlA8jd2",
        "outputId": "8f4e6a79-47e2-4b29-fdfd-a6c817fbbc28"
      },
      "execution_count": null,
      "outputs": [
        {
          "output_type": "execute_result",
          "data": {
            "text/plain": [
              "'Pypy'"
            ],
            "application/vnd.google.colaboratory.intrinsic+json": {
              "type": "string"
            }
          },
          "metadata": {},
          "execution_count": 67
        }
      ]
    },
    {
      "cell_type": "markdown",
      "source": [
        "The built-in function `len()` returns the length of a string:"
      ],
      "metadata": {
        "id": "MAvqyw-aCZmc"
      }
    },
    {
      "cell_type": "code",
      "source": [
        "s = 'supercalifragilisticexpialidocious'\n",
        "len(s)"
      ],
      "metadata": {
        "colab": {
          "base_uri": "https://localhost:8080/"
        },
        "id": "ZPnzX_zICbx8",
        "outputId": "0554bd73-1a94-40e4-8fc2-cd6f1067ca34"
      },
      "execution_count": null,
      "outputs": [
        {
          "output_type": "execute_result",
          "data": {
            "text/plain": [
              "34"
            ]
          },
          "metadata": {},
          "execution_count": 68
        }
      ]
    },
    {
      "cell_type": "markdown",
      "source": [
        "# First Steps Towards Programming"
      ],
      "metadata": {
        "id": "i5ND7gNgDcjZ"
      }
    },
    {
      "cell_type": "markdown",
      "source": [
        "Of course, we can use Python for more complicated tasks than adding two and two together. For instance, we can write an initial sub-sequence of the **Fibonacci series** as follows:"
      ],
      "metadata": {
        "id": "G4vjrMUwDeda"
      }
    },
    {
      "cell_type": "code",
      "source": [
        "# Fibonacci series:\n",
        "# the sum of two elements defines the next\n",
        "a, b = 0, 1\n",
        "while a < 10:\n",
        "    print(a)\n",
        "    a, b = b, a+b"
      ],
      "metadata": {
        "colab": {
          "base_uri": "https://localhost:8080/"
        },
        "id": "xLdiXlwdDqvb",
        "outputId": "052738d0-12dc-46b8-b779-f96d5bf1f7fb"
      },
      "execution_count": null,
      "outputs": [
        {
          "output_type": "stream",
          "name": "stdout",
          "text": [
            "0\n",
            "1\n",
            "1\n",
            "2\n",
            "3\n",
            "5\n",
            "8\n"
          ]
        }
      ]
    },
    {
      "cell_type": "markdown",
      "source": [
        "This example introduces several new features.\n",
        "\n",
        "  * The first line contains a *multiple assignment*: the variables `a` and `b` simultaneously get the new values 0 and 1. On the last line this is used again, demonstrating that the expressions on the right-hand side are all evaluated first before any of the assignments take place. The right-hand side expressions are evaluated from the left to the right.\n",
        "\n",
        "  * The **while** loop executes as long as the condition (here: `a < 10`) remains true. In Python, like in C, any non-zero integer value is true; zero is false. The condition may also be a string or list value, in fact any sequence; anything with a non-zero length is true, empty sequences are false. The test used in the example is a simple comparison. The standard comparison operators are written the same as in C: `<` (less than), `>` (greater than), `==` (equal to), `<=` (less than or equal to), `>=` (greater than or equal to) and `!=` (not equal to).\n",
        "\n",
        "  * The body of the loop is indented: indentation is Python’s way of grouping statements. At the interactive prompt, you have to type a tab or space(s) for each indented line. In practice you will prepare more complicated input for Python with a text editor; all decent text editors have an auto-indent facility. When a compound statement is entered interactively, it must be followed by a blank line to indicate completion (since the parser cannot guess when you have typed the last line). Note that each line within a basic block must be indented by the same amount.\n",
        "\n",
        "  * The **print()** function writes the value of the argument(s) it is given. It differs from just writing the expression you want to write (as we did earlier in the calculator examples) in the way it handles multiple arguments, floating point quantities, and strings. Strings are printed without quotes, and a space is inserted between items, so you can format things nicely, like this:"
      ],
      "metadata": {
        "id": "zMP_tuzBEJwk"
      }
    },
    {
      "cell_type": "code",
      "source": [
        "i = 256*256\n",
        "print('The value of i is', i)"
      ],
      "metadata": {
        "colab": {
          "base_uri": "https://localhost:8080/"
        },
        "id": "fvxlOi_zFSVr",
        "outputId": "acf6e347-0fe7-4015-99f9-22badc1894b7"
      },
      "execution_count": null,
      "outputs": [
        {
          "output_type": "stream",
          "name": "stdout",
          "text": [
            "The value of i is 65536\n"
          ]
        }
      ]
    },
    {
      "cell_type": "markdown",
      "source": [
        "The keyword argument end can be used to avoid the newline after the output, or end the output with a different string:"
      ],
      "metadata": {
        "id": "AbDqhd-RFY0c"
      }
    },
    {
      "cell_type": "code",
      "source": [
        "a, b = 0, 1\n",
        "while a < 1000:\n",
        "    print(a, end=',')\n",
        "    a, b = b, a+b"
      ],
      "metadata": {
        "colab": {
          "base_uri": "https://localhost:8080/"
        },
        "id": "NvNofPJQFZrM",
        "outputId": "949d29b8-a1bf-4cf5-d366-e1bcaaa5779a"
      },
      "execution_count": null,
      "outputs": [
        {
          "output_type": "stream",
          "name": "stdout",
          "text": [
            "0,1,1,2,3,5,8,13,21,34,55,89,144,233,377,610,987,"
          ]
        }
      ]
    }
  ]
}