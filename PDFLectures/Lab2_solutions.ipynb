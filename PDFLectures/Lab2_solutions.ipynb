{
  "nbformat": 4,
  "nbformat_minor": 0,
  "metadata": {
    "kernelspec": {
      "display_name": "Python 3",
      "language": "python",
      "name": "python3"
    },
    "language_info": {
      "codemirror_mode": {
        "name": "ipython",
        "version": 3
      },
      "file_extension": ".py",
      "mimetype": "text/x-python",
      "name": "python",
      "nbconvert_exporter": "python",
      "pygments_lexer": "ipython3",
      "version": "3.7.4"
    },
    "colab": {
      "provenance": []
    }
  },
  "cells": [
    {
      "cell_type": "markdown",
      "metadata": {
        "id": "Xa7m03wXDqPr"
      },
      "source": [
        "# Lab #2\n",
        "\n",
        "Today's lab consists of practice questions to review MLPs and introduce CNNs."
      ]
    },
    {
      "cell_type": "markdown",
      "metadata": {
        "id": "hejoZsPFRjck"
      },
      "source": [
        "## Question 1\n",
        "### Classifying newswires: a multi-class classification example\n",
        "In this example we will build a network to classify Reuters newswires into 46 different mutually-exclusive topics. Examples include cocoa, soybeans and livestock. Since we have many classes, this problem is an instance of \"multi-class classification\", and since each data point should be classified into only one category, the problem is more specifically an instance of \"single-label, multi-class classification\". If each data point could have belonged to multiple categories (in our case, topics) then we would be facing a \"multi-label, multi-class classification\" problem.\n",
        "\n",
        "### The Reuters dataset\n",
        "We will be working with the Reuters dataset, a set of short newswires and their topics, published by Reuters in 1986. It's a very simple, widely used toy dataset for text classification. There are 46 different topics; some topics are more represented than others, but each topic has at least 10 examples in the training set.\n",
        "\n",
        "Like IMDB and MNIST, the Reuters dataset comes packaged as part of Keras. Let's take a look:"
      ]
    },
    {
      "cell_type": "code",
      "metadata": {
        "id": "F21qC4YGaD_c"
      },
      "source": [
        "# Import needed packages\n",
        "import tensorflow as tf\n",
        "import numpy as np\n",
        "from tensorflow import keras\n",
        "import pandas as pd\n",
        "from tensorflow.keras.datasets import reuters\n",
        "from keras.utils import to_categorical\n",
        "from tensorflow.keras import layers\n",
        "import matplotlib.pyplot as plt\n",
        "%matplotlib inline"
      ],
      "execution_count": 1,
      "outputs": []
    },
    {
      "cell_type": "code",
      "metadata": {
        "id": "2bj-8a5pSHrP",
        "colab": {
          "base_uri": "https://localhost:8080/"
        },
        "outputId": "f681d31f-4102-45be-8853-a007016008f6"
      },
      "source": [
        "# Load data\n",
        "(train_data, train_labels), (test_data, test_labels) = reuters.load_data(num_words=10000)"
      ],
      "execution_count": 2,
      "outputs": [
        {
          "output_type": "stream",
          "name": "stdout",
          "text": [
            "Downloading data from https://storage.googleapis.com/tensorflow/tf-keras-datasets/reuters.npz\n",
            "2110848/2110848 [==============================] - 0s 0us/step\n"
          ]
        }
      ]
    },
    {
      "cell_type": "markdown",
      "metadata": {
        "id": "IeKpfUp4SM7R"
      },
      "source": [
        "\n",
        "Like with the IMDB dataset, the argument `num_words=10000` restricts the data to the 10,000 most frequently occurring words found in the data.\n",
        "\n",
        "We have 8,982 training examples and 2,246 test examples:"
      ]
    },
    {
      "cell_type": "code",
      "metadata": {
        "id": "20B91L0uSQ_N",
        "colab": {
          "base_uri": "https://localhost:8080/"
        },
        "outputId": "5bda83b7-0409-47d4-97c1-be14cce186c5"
      },
      "source": [
        "len(train_data)"
      ],
      "execution_count": 3,
      "outputs": [
        {
          "output_type": "execute_result",
          "data": {
            "text/plain": [
              "8982"
            ]
          },
          "metadata": {},
          "execution_count": 3
        }
      ]
    },
    {
      "cell_type": "code",
      "metadata": {
        "id": "5Jv5QgpnSTR5",
        "colab": {
          "base_uri": "https://localhost:8080/"
        },
        "outputId": "cf3c1e5e-8d99-465c-e86c-438d9ecb06d4"
      },
      "source": [
        "len(test_data)"
      ],
      "execution_count": 4,
      "outputs": [
        {
          "output_type": "execute_result",
          "data": {
            "text/plain": [
              "2246"
            ]
          },
          "metadata": {},
          "execution_count": 4
        }
      ]
    },
    {
      "cell_type": "markdown",
      "metadata": {
        "id": "gyEQIdwGSWiA"
      },
      "source": [
        "As with the IMDB reviews, each example is a list of integers (word indices):"
      ]
    },
    {
      "cell_type": "code",
      "metadata": {
        "id": "39RJvzpHSWq5",
        "colab": {
          "base_uri": "https://localhost:8080/"
        },
        "outputId": "19842ae4-6aca-454e-c5ff-a66f7df0ae76"
      },
      "source": [
        "train_data[10]"
      ],
      "execution_count": 5,
      "outputs": [
        {
          "output_type": "execute_result",
          "data": {
            "text/plain": [
              "[1,\n",
              " 245,\n",
              " 273,\n",
              " 207,\n",
              " 156,\n",
              " 53,\n",
              " 74,\n",
              " 160,\n",
              " 26,\n",
              " 14,\n",
              " 46,\n",
              " 296,\n",
              " 26,\n",
              " 39,\n",
              " 74,\n",
              " 2979,\n",
              " 3554,\n",
              " 14,\n",
              " 46,\n",
              " 4689,\n",
              " 4329,\n",
              " 86,\n",
              " 61,\n",
              " 3499,\n",
              " 4795,\n",
              " 14,\n",
              " 61,\n",
              " 451,\n",
              " 4329,\n",
              " 17,\n",
              " 12]"
            ]
          },
          "metadata": {},
          "execution_count": 5
        }
      ]
    },
    {
      "cell_type": "markdown",
      "metadata": {
        "id": "C0OquFanSbQF"
      },
      "source": [
        "Here's how you can decode it back to words, in case you are curious:"
      ]
    },
    {
      "cell_type": "code",
      "metadata": {
        "id": "V4iPPKqRSbZ4"
      },
      "source": [
        "word_index = reuters.get_word_index()\n",
        "reverse_word_index = dict([(value, key) for (key, value) in word_index.items()])\n",
        "# Note that our indices were offset by 3\n",
        "# because 0, 1 and 2 are reserved indices for \"padding\", \"start of sequence\", and \"unknown\".\n",
        "decoded_newswire = ' '.join([reverse_word_index.get(i - 3, '?') for i in train_data[10]])"
      ],
      "execution_count": 9,
      "outputs": []
    },
    {
      "cell_type": "code",
      "metadata": {
        "id": "7m3ibg4OShQN",
        "colab": {
          "base_uri": "https://localhost:8080/",
          "height": 35
        },
        "outputId": "fad55ece-8354-4eda-bc56-ad3afd36477a"
      },
      "source": [
        "decoded_newswire"
      ],
      "execution_count": 10,
      "outputs": [
        {
          "output_type": "execute_result",
          "data": {
            "text/plain": [
              "'? period ended december 31 shr profit 11 cts vs loss 24 cts net profit 224 271 vs loss 511 349 revs 7 258 688 vs 7 200 349 reuter 3'"
            ],
            "application/vnd.google.colaboratory.intrinsic+json": {
              "type": "string"
            }
          },
          "metadata": {},
          "execution_count": 10
        }
      ]
    },
    {
      "cell_type": "markdown",
      "metadata": {
        "id": "xQcVuTS4SksC"
      },
      "source": [
        "The label associated with an example is an integer between 0 and 45: a topic index."
      ]
    },
    {
      "cell_type": "code",
      "metadata": {
        "id": "a1tuutnKSkzc",
        "colab": {
          "base_uri": "https://localhost:8080/"
        },
        "outputId": "a2e5fde7-545b-4cd5-af47-afafbe1513a8"
      },
      "source": [
        "train_labels[10]"
      ],
      "execution_count": 11,
      "outputs": [
        {
          "output_type": "execute_result",
          "data": {
            "text/plain": [
              "3"
            ]
          },
          "metadata": {},
          "execution_count": 11
        }
      ]
    },
    {
      "cell_type": "markdown",
      "metadata": {
        "id": "Bgl31PVUUb8D"
      },
      "source": [
        "### Preparing the data\n",
        "We can vectorize the data with the exact same code as in our previous example:"
      ]
    },
    {
      "cell_type": "code",
      "metadata": {
        "id": "SQKJUf4BUdWA"
      },
      "source": [
        "def vectorize_sequences(sequences, dimension=10000):\n",
        "    results = np.zeros((len(sequences), dimension))\n",
        "    for i, sequence in enumerate(sequences):\n",
        "        results[i, sequence] = 1.\n",
        "    return results\n",
        "\n",
        "# Our vectorized training data\n",
        "x_train = vectorize_sequences(train_data)\n",
        "# Our vectorized test data\n",
        "x_test = vectorize_sequences(test_data)"
      ],
      "execution_count": 12,
      "outputs": []
    },
    {
      "cell_type": "markdown",
      "metadata": {
        "id": "HjfJwkyNUiBA"
      },
      "source": [
        "To vectorize the labels, there are two possibilities: we could just cast the label list as an integer tensor, or we could use a \"one-hot\" encoding. One-hot encoding is a widely used format for categorical data, also called \"categorical encoding\". For a more detailed explanation of one-hot encoding, you can refer to Chapter 6, Section 1 in [Deep Learning with Python](https://www.manning.com/books/deep-learning-with-python). In our case, one-hot encoding of our labels consists in embedding each label as an all-zero vector with a 1 in the place of the label index, e.g.:"
      ]
    },
    {
      "cell_type": "code",
      "metadata": {
        "id": "WTo5jwwCUiJl"
      },
      "source": [
        "def to_one_hot(labels, dimension=46):\n",
        "    results = np.zeros((len(labels), dimension))\n",
        "    for i, label in enumerate(labels):\n",
        "        results[i, label] = 1.\n",
        "    return results\n",
        "\n",
        "# Our vectorized training labels\n",
        "one_hot_train_labels = to_one_hot(train_labels)\n",
        "# Our vectorized test labels\n",
        "one_hot_test_labels = to_one_hot(test_labels)"
      ],
      "execution_count": 13,
      "outputs": []
    },
    {
      "cell_type": "markdown",
      "metadata": {
        "id": "DP6WFacpUn1J"
      },
      "source": [
        "Note that there is a built-in way to do this in Keras, which you have already seen in action in our MNIST example:"
      ]
    },
    {
      "cell_type": "code",
      "metadata": {
        "id": "CurEVzaWUn9c"
      },
      "source": [
        "one_hot_train_labels = to_categorical(train_labels)\n",
        "one_hot_test_labels = to_categorical(test_labels)"
      ],
      "execution_count": 14,
      "outputs": []
    },
    {
      "cell_type": "markdown",
      "metadata": {
        "id": "xkgvTFgEUraG"
      },
      "source": [
        "### Building our network\n",
        "This topic classification problem looks very similar to our previous movie review classification problem: in both cases, we are trying to classify short snippets of text. There is however a new constraint here: the number of output classes has gone from 2 to 46, i.e. the dimensionality of the output space is much larger.\n",
        "\n",
        "In a stack of `Dense` layers like what we were using, each layer can only access information present in the output of the previous layer. If one layer drops some information relevant to the classification problem, this information can never be recovered by later layers: each layer can potentially become an \"information bottleneck\". In our previous example, we were using 16-dimensional intermediate layers, but a 16-dimensional space may be too limited to learn to separate 46 different classes: such small layers may act as information bottlenecks, permanently dropping relevant information. For this reason we will use larger layers.\n",
        "\n",
        "Build a networks with 2 hidden layers, each with 64 hidden units, and an appropriate output layer. Remember to include the correct `input_shape` in the first hidden layer."
      ]
    },
    {
      "cell_type": "code",
      "metadata": {
        "id": "MizNFbsLUrh_"
      },
      "source": [
        "# Define model\n",
        "model = keras.Sequential([\n",
        "  layers.Dense(64, activation = 'relu', input_shape=(10000,)),\n",
        "  layers.Dense(64, activation='relu'),\n",
        "  layers.Dense(46, activation='softmax')\n",
        "])"
      ],
      "execution_count": 15,
      "outputs": []
    },
    {
      "cell_type": "markdown",
      "metadata": {
        "id": "LranuTl_U10d"
      },
      "source": [
        "Code the `model.compile` function with `rmsprop` optimizer, `accuracy` performance metric and appropriate loss function."
      ]
    },
    {
      "cell_type": "code",
      "metadata": {
        "id": "tdi3F-1wU18H"
      },
      "source": [
        "# Define how to execute training\n",
        "model.compile(optimizer='rmsprop',\n",
        "              loss='categorical_crossentropy',\n",
        "              metrics=['accuracy'])"
      ],
      "execution_count": 16,
      "outputs": []
    },
    {
      "cell_type": "markdown",
      "metadata": {
        "id": "8UjL7xwcU7vM"
      },
      "source": [
        "### Validating our approach\n",
        "Let's set apart 1,000 samples in our training data to use as a validation set:"
      ]
    },
    {
      "cell_type": "code",
      "metadata": {
        "id": "wMTJ3h9QU73v"
      },
      "source": [
        "x_val = x_train[:1000]\n",
        "partial_x_train = x_train[1000:]\n",
        "\n",
        "y_val = one_hot_train_labels[:1000]\n",
        "partial_y_train = one_hot_train_labels[1000:]"
      ],
      "execution_count": 17,
      "outputs": []
    },
    {
      "cell_type": "markdown",
      "metadata": {
        "id": "4GrP5GtKVENc"
      },
      "source": [
        "Train the network for 20 epochs with a batch size of 512. Be sure to make use of the validation set."
      ]
    },
    {
      "cell_type": "code",
      "metadata": {
        "id": "XPkvsbymVEVf",
        "colab": {
          "base_uri": "https://localhost:8080/"
        },
        "outputId": "509d1440-d48e-4da1-d63e-75e410c93b5e"
      },
      "source": [
        "history = model.fit(partial_x_train,\n",
        "                    partial_y_train,\n",
        "                    epochs=20,\n",
        "                    batch_size=512,\n",
        "                    validation_data=(x_val, y_val))"
      ],
      "execution_count": 18,
      "outputs": [
        {
          "output_type": "stream",
          "name": "stdout",
          "text": [
            "Epoch 1/20\n",
            "16/16 [==============================] - 2s 70ms/step - loss: 2.7706 - accuracy: 0.4971 - val_loss: 1.8506 - val_accuracy: 0.6340\n",
            "Epoch 2/20\n",
            "16/16 [==============================] - 1s 44ms/step - loss: 1.5517 - accuracy: 0.6812 - val_loss: 1.3739 - val_accuracy: 0.6860\n",
            "Epoch 3/20\n",
            "16/16 [==============================] - 1s 47ms/step - loss: 1.1783 - accuracy: 0.7399 - val_loss: 1.2085 - val_accuracy: 0.7250\n",
            "Epoch 4/20\n",
            "16/16 [==============================] - 1s 49ms/step - loss: 0.9634 - accuracy: 0.7903 - val_loss: 1.0967 - val_accuracy: 0.7500\n",
            "Epoch 5/20\n",
            "16/16 [==============================] - 1s 61ms/step - loss: 0.8018 - accuracy: 0.8281 - val_loss: 1.0152 - val_accuracy: 0.7890\n",
            "Epoch 6/20\n",
            "16/16 [==============================] - 1s 53ms/step - loss: 0.6690 - accuracy: 0.8602 - val_loss: 0.9666 - val_accuracy: 0.7920\n",
            "Epoch 7/20\n",
            "16/16 [==============================] - 1s 79ms/step - loss: 0.5664 - accuracy: 0.8795 - val_loss: 0.9247 - val_accuracy: 0.8050\n",
            "Epoch 8/20\n",
            "16/16 [==============================] - 1s 73ms/step - loss: 0.4767 - accuracy: 0.9003 - val_loss: 0.9111 - val_accuracy: 0.8030\n",
            "Epoch 9/20\n",
            "16/16 [==============================] - 1s 71ms/step - loss: 0.4047 - accuracy: 0.9129 - val_loss: 0.8924 - val_accuracy: 0.8120\n",
            "Epoch 10/20\n",
            "16/16 [==============================] - 1s 58ms/step - loss: 0.3507 - accuracy: 0.9236 - val_loss: 0.8897 - val_accuracy: 0.8140\n",
            "Epoch 11/20\n",
            "16/16 [==============================] - 1s 56ms/step - loss: 0.3017 - accuracy: 0.9323 - val_loss: 0.8711 - val_accuracy: 0.8210\n",
            "Epoch 12/20\n",
            "16/16 [==============================] - 1s 54ms/step - loss: 0.2619 - accuracy: 0.9416 - val_loss: 0.8879 - val_accuracy: 0.8240\n",
            "Epoch 13/20\n",
            "16/16 [==============================] - 1s 48ms/step - loss: 0.2333 - accuracy: 0.9468 - val_loss: 0.8846 - val_accuracy: 0.8200\n",
            "Epoch 14/20\n",
            "16/16 [==============================] - 1s 46ms/step - loss: 0.2152 - accuracy: 0.9466 - val_loss: 0.9126 - val_accuracy: 0.8190\n",
            "Epoch 15/20\n",
            "16/16 [==============================] - 1s 47ms/step - loss: 0.1889 - accuracy: 0.9506 - val_loss: 0.9084 - val_accuracy: 0.8240\n",
            "Epoch 16/20\n",
            "16/16 [==============================] - 1s 46ms/step - loss: 0.1752 - accuracy: 0.9545 - val_loss: 0.9248 - val_accuracy: 0.8130\n",
            "Epoch 17/20\n",
            "16/16 [==============================] - 1s 54ms/step - loss: 0.1632 - accuracy: 0.9539 - val_loss: 0.9145 - val_accuracy: 0.8200\n",
            "Epoch 18/20\n",
            "16/16 [==============================] - 1s 58ms/step - loss: 0.1518 - accuracy: 0.9549 - val_loss: 0.9659 - val_accuracy: 0.7980\n",
            "Epoch 19/20\n",
            "16/16 [==============================] - 1s 57ms/step - loss: 0.1478 - accuracy: 0.9557 - val_loss: 0.9558 - val_accuracy: 0.8090\n",
            "Epoch 20/20\n",
            "16/16 [==============================] - 1s 51ms/step - loss: 0.1384 - accuracy: 0.9559 - val_loss: 0.9732 - val_accuracy: 0.8080\n"
          ]
        }
      ]
    },
    {
      "cell_type": "markdown",
      "metadata": {
        "id": "5an-LHCrVL0F"
      },
      "source": [
        "\n",
        "Display its loss and accuracy curves."
      ]
    },
    {
      "cell_type": "code",
      "metadata": {
        "id": "P0BQ_2dwVL8t"
      },
      "source": [
        "import seaborn as sns\n",
        "sns.set()\n",
        "\n",
        "train_acc  = history.history['accuracy']\n",
        "train_loss = history.history['loss']\n",
        "val_acc  = history.history['val_accuracy']\n",
        "val_loss = history.history['val_loss']\n",
        "\n",
        "epochs = range(1, len(train_acc) + 1)"
      ],
      "execution_count": 19,
      "outputs": []
    },
    {
      "cell_type": "code",
      "metadata": {
        "id": "PmU5zwtDbs4S",
        "colab": {
          "base_uri": "https://localhost:8080/",
          "height": 476
        },
        "outputId": "12ecabd8-3f04-4179-e756-a0c247cf4903"
      },
      "source": [
        "plt.plot(epochs, train_loss, label = 'Training Loss')\n",
        "plt.plot(epochs, val_loss, label = 'Validation Loss')\n",
        "plt.xlabel('Epochs')\n",
        "plt.ylabel('Loss')\n",
        "plt.legend()"
      ],
      "execution_count": 20,
      "outputs": [
        {
          "output_type": "execute_result",
          "data": {
            "text/plain": [
              "<matplotlib.legend.Legend at 0x7ad565e6cd60>"
            ]
          },
          "metadata": {},
          "execution_count": 20
        },
        {
          "output_type": "display_data",
          "data": {
            "text/plain": [
              "<Figure size 640x480 with 1 Axes>"
            ],
            "image/png": "[encoded data removed]"
          },
          "metadata": {}
        }
      ]
    },
    {
      "cell_type": "code",
      "metadata": {
        "id": "gN_6FsOBVRNG",
        "colab": {
          "base_uri": "https://localhost:8080/",
          "height": 476
        },
        "outputId": "83cdf2c0-93ce-42b8-ad8d-83c43cb0ef4e"
      },
      "source": [
        "plt.plot(epochs, train_acc, label = 'Training Accuracy')\n",
        "plt.plot(epochs, val_acc, label = 'Validation Accuracy')\n",
        "plt.xlabel('Epochs')\n",
        "plt.ylabel('Accuracy')\n",
        "plt.legend()"
      ],
      "execution_count": 21,
      "outputs": [
        {
          "output_type": "execute_result",
          "data": {
            "text/plain": [
              "<matplotlib.legend.Legend at 0x7ad565a84070>"
            ]
          },
          "metadata": {},
          "execution_count": 21
        },
        {
          "output_type": "display_data",
          "data": {
            "text/plain": [
              "<Figure size 640x480 with 1 Axes>"
            ],
            "image/png": "[encoded data removed]"
          },
          "metadata": {}
        }
      ]
    },
    {
      "cell_type": "markdown",
      "metadata": {
        "id": "s5jqIjbAVXJj"
      },
      "source": [
        "It seems that the network starts overfitting after 8 epochs. Train a new network from scratch for 8 epochs, then evaluate it on the test set."
      ]
    },
    {
      "cell_type": "code",
      "metadata": {
        "id": "vPa6z15XVXRX",
        "colab": {
          "base_uri": "https://localhost:8080/"
        },
        "outputId": "861e70ec-f7cf-4cf2-e988-096db01e667b"
      },
      "source": [
        "# Define model\n",
        "model = keras.Sequential([\n",
        "  layers.Dense(64, activation = 'relu', input_shape=(10000,)),\n",
        "  layers.Dense(64, activation='relu'),\n",
        "  layers.Dense(46, activation='softmax')\n",
        "])\n",
        "\n",
        "model.compile(optimizer='rmsprop',\n",
        "              loss='categorical_crossentropy',\n",
        "              metrics=['accuracy'])\n",
        "model.fit(partial_x_train,\n",
        "          partial_y_train,\n",
        "          epochs=8,\n",
        "          batch_size=512,\n",
        "          validation_data=(x_val, y_val))\n",
        "results = model.evaluate(x_test, one_hot_test_labels)"
      ],
      "execution_count": 22,
      "outputs": [
        {
          "output_type": "stream",
          "name": "stdout",
          "text": [
            "Epoch 1/8\n",
            "16/16 [==============================] - 2s 64ms/step - loss: 2.9097 - accuracy: 0.4714 - val_loss: 1.9492 - val_accuracy: 0.6050\n",
            "Epoch 2/8\n",
            "16/16 [==============================] - 1s 58ms/step - loss: 1.5955 - accuracy: 0.6728 - val_loss: 1.3997 - val_accuracy: 0.6830\n",
            "Epoch 3/8\n",
            "16/16 [==============================] - 1s 64ms/step - loss: 1.1887 - accuracy: 0.7433 - val_loss: 1.2093 - val_accuracy: 0.7390\n",
            "Epoch 4/8\n",
            "16/16 [==============================] - 1s 85ms/step - loss: 0.9819 - accuracy: 0.7878 - val_loss: 1.1015 - val_accuracy: 0.7720\n",
            "Epoch 5/8\n",
            "16/16 [==============================] - 1s 83ms/step - loss: 0.8207 - accuracy: 0.8231 - val_loss: 1.0242 - val_accuracy: 0.7850\n",
            "Epoch 6/8\n",
            "16/16 [==============================] - 1s 59ms/step - loss: 0.6854 - accuracy: 0.8573 - val_loss: 0.9670 - val_accuracy: 0.8060\n",
            "Epoch 7/8\n",
            "16/16 [==============================] - 1s 55ms/step - loss: 0.5801 - accuracy: 0.8773 - val_loss: 0.9085 - val_accuracy: 0.8080\n",
            "Epoch 8/8\n",
            "16/16 [==============================] - 1s 55ms/step - loss: 0.4854 - accuracy: 0.9009 - val_loss: 0.9042 - val_accuracy: 0.7990\n",
            "71/71 [==============================] - 0s 5ms/step - loss: 0.9967 - accuracy: 0.7734\n"
          ]
        }
      ]
    },
    {
      "cell_type": "code",
      "metadata": {
        "id": "ck2aDq1HVghr",
        "colab": {
          "base_uri": "https://localhost:8080/"
        },
        "outputId": "2384c596-5248-439a-d146-f83d06ade8ef"
      },
      "source": [
        "results"
      ],
      "execution_count": 23,
      "outputs": [
        {
          "output_type": "execute_result",
          "data": {
            "text/plain": [
              "[0.9966707229614258, 0.7733749151229858]"
            ]
          },
          "metadata": {},
          "execution_count": 23
        }
      ]
    },
    {
      "cell_type": "markdown",
      "metadata": {
        "id": "HAqekri9VkVV"
      },
      "source": [
        "Our approach reaches an accuracy of ~78%. With a balanced binary classification problem, the accuracy reached by a purely random classifier would be 50%, but in our case it is closer to 19%, so our results seem pretty good, at least when compared to a random baseline:"
      ]
    },
    {
      "cell_type": "code",
      "metadata": {
        "id": "rPbrANxJVkwh",
        "colab": {
          "base_uri": "https://localhost:8080/"
        },
        "outputId": "76e43530-a597-41f0-b085-99ae8c45c938"
      },
      "source": [
        "import copy\n",
        "\n",
        "test_labels_copy = copy.copy(test_labels)\n",
        "np.random.shuffle(test_labels_copy)\n",
        "float(np.sum(np.array(test_labels) == np.array(test_labels_copy))) / len(test_labels)"
      ],
      "execution_count": 24,
      "outputs": [
        {
          "output_type": "execute_result",
          "data": {
            "text/plain": [
              "0.19278717720391808"
            ]
          },
          "metadata": {},
          "execution_count": 24
        }
      ]
    },
    {
      "cell_type": "markdown",
      "metadata": {
        "id": "ACx1ah7ZVrZb"
      },
      "source": [
        "### On the importance of having sufficiently large intermediate layers\n",
        "We mentioned earlier that since our final outputs were 46-dimensional, we should avoid intermediate layers with much less than 46 hidden units. See what happens when you introduce an information bottleneck by setting the number of nodes in the second hidden layer to 4."
      ]
    },
    {
      "cell_type": "code",
      "metadata": {
        "id": "iMc7LyNpV6M7",
        "colab": {
          "base_uri": "https://localhost:8080/"
        },
        "outputId": "2dd32107-b873-4916-eeb9-139cd16d51de"
      },
      "source": [
        "# Define model\n",
        "model = keras.Sequential([\n",
        "  layers.Dense(64, activation = 'relu', input_shape=(10000,)),\n",
        "  layers.Dense(4, activation='relu'),\n",
        "  layers.Dense(46, activation='softmax')\n",
        "])\n",
        "\n",
        "model.compile(optimizer='rmsprop',\n",
        "              loss='categorical_crossentropy',\n",
        "              metrics=['accuracy'])\n",
        "\n",
        "model.fit(partial_x_train,\n",
        "          partial_y_train,\n",
        "          epochs=20,\n",
        "          batch_size=512,\n",
        "          validation_data=(x_val, y_val))"
      ],
      "execution_count": 25,
      "outputs": [
        {
          "output_type": "stream",
          "name": "stdout",
          "text": [
            "Epoch 1/20\n",
            "16/16 [==============================] - 2s 110ms/step - loss: 3.2907 - accuracy: 0.2551 - val_loss: 2.8116 - val_accuracy: 0.3420\n",
            "Epoch 2/20\n",
            "16/16 [==============================] - 1s 87ms/step - loss: 2.5288 - accuracy: 0.3951 - val_loss: 2.2190 - val_accuracy: 0.5230\n",
            "Epoch 3/20\n",
            "16/16 [==============================] - 1s 60ms/step - loss: 2.0248 - accuracy: 0.5758 - val_loss: 1.8512 - val_accuracy: 0.5800\n",
            "Epoch 4/20\n",
            "16/16 [==============================] - 1s 56ms/step - loss: 1.7166 - accuracy: 0.5953 - val_loss: 1.6509 - val_accuracy: 0.5870\n",
            "Epoch 5/20\n",
            "16/16 [==============================] - 1s 61ms/step - loss: 1.5363 - accuracy: 0.6114 - val_loss: 1.5480 - val_accuracy: 0.6090\n",
            "Epoch 6/20\n",
            "16/16 [==============================] - 1s 53ms/step - loss: 1.4175 - accuracy: 0.6332 - val_loss: 1.4644 - val_accuracy: 0.6300\n",
            "Epoch 7/20\n",
            "16/16 [==============================] - 1s 50ms/step - loss: 1.3272 - accuracy: 0.6611 - val_loss: 1.4138 - val_accuracy: 0.6590\n",
            "Epoch 8/20\n",
            "16/16 [==============================] - 1s 57ms/step - loss: 1.2519 - accuracy: 0.7001 - val_loss: 1.3717 - val_accuracy: 0.6830\n",
            "Epoch 9/20\n",
            "16/16 [==============================] - 1s 60ms/step - loss: 1.1902 - accuracy: 0.7162 - val_loss: 1.3429 - val_accuracy: 0.6830\n",
            "Epoch 10/20\n",
            "16/16 [==============================] - 1s 51ms/step - loss: 1.1362 - accuracy: 0.7290 - val_loss: 1.3207 - val_accuracy: 0.6910\n",
            "Epoch 11/20\n",
            "16/16 [==============================] - 1s 56ms/step - loss: 1.0883 - accuracy: 0.7367 - val_loss: 1.3073 - val_accuracy: 0.6910\n",
            "Epoch 12/20\n",
            "16/16 [==============================] - 1s 56ms/step - loss: 1.0448 - accuracy: 0.7415 - val_loss: 1.2849 - val_accuracy: 0.6970\n",
            "Epoch 13/20\n",
            "16/16 [==============================] - 1s 49ms/step - loss: 1.0084 - accuracy: 0.7464 - val_loss: 1.2771 - val_accuracy: 0.6940\n",
            "Epoch 14/20\n",
            "16/16 [==============================] - 1s 45ms/step - loss: 0.9728 - accuracy: 0.7496 - val_loss: 1.2642 - val_accuracy: 0.6930\n",
            "Epoch 15/20\n",
            "16/16 [==============================] - 1s 84ms/step - loss: 0.9403 - accuracy: 0.7521 - val_loss: 1.2620 - val_accuracy: 0.6920\n",
            "Epoch 16/20\n",
            "16/16 [==============================] - 1s 86ms/step - loss: 0.9117 - accuracy: 0.7554 - val_loss: 1.2517 - val_accuracy: 0.6930\n",
            "Epoch 17/20\n",
            "16/16 [==============================] - 1s 66ms/step - loss: 0.8841 - accuracy: 0.7566 - val_loss: 1.2466 - val_accuracy: 0.6880\n",
            "Epoch 18/20\n",
            "16/16 [==============================] - 1s 53ms/step - loss: 0.8573 - accuracy: 0.7586 - val_loss: 1.2512 - val_accuracy: 0.6870\n",
            "Epoch 19/20\n",
            "16/16 [==============================] - 1s 53ms/step - loss: 0.8326 - accuracy: 0.7632 - val_loss: 1.2629 - val_accuracy: 0.6920\n",
            "Epoch 20/20\n",
            "16/16 [==============================] - 1s 48ms/step - loss: 0.8103 - accuracy: 0.7715 - val_loss: 1.2473 - val_accuracy: 0.6920\n"
          ]
        },
        {
          "output_type": "execute_result",
          "data": {
            "text/plain": [
              "<keras.src.callbacks.History at 0x7ad564d806d0>"
            ]
          },
          "metadata": {},
          "execution_count": 25
        }
      ]
    },
    {
      "cell_type": "markdown",
      "metadata": {
        "id": "R_5ACNQHVgqk"
      },
      "source": [
        "Our network now seems to peak at ~66% test accuracy, a 12% absolute drop. This drop is mostly due to the fact that we are now trying to compress a lot of information (enough information to recover the separation hyperplanes of 46 classes) into an intermediate space that is too low-dimensional. The network is able to cram most of the necessary information into these 8-dimensional representations, but not all of it.\n",
        "\n",
        "### Further experiments\n",
        "1. Try using larger or smaller layers: 32 units, 128 units...\n",
        "2. We were using two hidden layers. Now try to use a single hidden layer, or three hidden layers."
      ]
    },
    {
      "cell_type": "markdown",
      "metadata": {
        "id": "HdEQ4utLNWYz"
      },
      "source": [
        "# Introduction to CNNs\n",
        "## Question 2: Classifying Digits\n",
        "Let's revisit the MNIST dataset and build a CNN classifier.\n",
        "\n",
        "Load the MNIST dataset provided by keras. This contains 60,000 28x28 grayscale images of the 10 digits, along with a test set of 10,000 images. Split the data into training and testing sets."
      ]
    },
    {
      "cell_type": "code",
      "metadata": {
        "id": "7lW91M78Nh1G",
        "colab": {
          "base_uri": "https://localhost:8080/"
        },
        "outputId": "56182a5b-16cc-4cd9-ea83-f5a193cc0269"
      },
      "source": [
        "# Load data\n",
        "from tensorflow.keras.datasets import mnist\n",
        "(x_train, y_train), (x_test, y_test) = mnist.load_data()"
      ],
      "execution_count": 26,
      "outputs": [
        {
          "output_type": "stream",
          "name": "stdout",
          "text": [
            "Downloading data from https://storage.googleapis.com/tensorflow/tf-keras-datasets/mnist.npz\n",
            "11490434/11490434 [==============================] - 0s 0us/step\n"
          ]
        }
      ]
    },
    {
      "cell_type": "markdown",
      "metadata": {
        "id": "8ivhL6kMN2AF"
      },
      "source": [
        "Print the shape of the training and test sets."
      ]
    },
    {
      "cell_type": "code",
      "metadata": {
        "colab": {
          "base_uri": "https://localhost:8080/"
        },
        "id": "M73qe9-uNqi3",
        "outputId": "fc96e58a-9599-4c36-8f6b-d829f5a6014c"
      },
      "source": [
        "print(x_train.shape)\n",
        "print(x_test.shape)"
      ],
      "execution_count": 27,
      "outputs": [
        {
          "output_type": "stream",
          "name": "stdout",
          "text": [
            "(60000, 28, 28)\n",
            "(10000, 28, 28)\n"
          ]
        }
      ]
    },
    {
      "cell_type": "markdown",
      "metadata": {
        "id": "6fjbkbSbN99m"
      },
      "source": [
        "Let's reshape the data to fit the keras format. Don't worry too much about this chunk for now."
      ]
    },
    {
      "cell_type": "code",
      "metadata": {
        "id": "S_hgRP9vN-H9"
      },
      "source": [
        "from keras import backend as K\n",
        "if K.image_data_format() == 'channels_first':\n",
        "    x_train = x_train.reshape(x_train.shape[0], 1, 28, 28)\n",
        "    x_test = x_test.reshape(x_test.shape[0], 1, 28, 28)\n",
        "    input_shape = (1, 28, 28)\n",
        "else:\n",
        "    x_train = x_train.reshape(x_train.shape[0], 28, 28, 1)\n",
        "    x_test = x_test.reshape(x_test.shape[0], 28, 28, 1)\n",
        "    input_shape = (28, 28, 1)"
      ],
      "execution_count": 28,
      "outputs": []
    },
    {
      "cell_type": "markdown",
      "metadata": {
        "id": "bok_81bON-Qb"
      },
      "source": [
        "Now print the shape again to see what changed."
      ]
    },
    {
      "cell_type": "code",
      "metadata": {
        "colab": {
          "base_uri": "https://localhost:8080/"
        },
        "id": "u_nhHRULN-Z1",
        "outputId": "75cbce72-04af-4d21-f44e-0899b18d4457"
      },
      "source": [
        "print(x_train.shape)\n",
        "print(x_test.shape)"
      ],
      "execution_count": 29,
      "outputs": [
        {
          "output_type": "stream",
          "name": "stdout",
          "text": [
            "(60000, 28, 28, 1)\n",
            "(10000, 28, 28, 1)\n"
          ]
        }
      ]
    },
    {
      "cell_type": "markdown",
      "metadata": {
        "id": "bJ6rhLoFOJEn"
      },
      "source": [
        "Question 2 in Homework 1 asks you to train a neural network on the Boston housing data. This dataset contains features on very different scales (for example there are both binary features and real-valued features). While the MNIST features take on values between 0 and 1 and do not need to be normalized, we will go through the exercise of normalizing the values before training our network.\n",
        "\n",
        "Can you think of other algorithms in which normalization is necessary? Is it necessary in the case of neural networks? Why or why not?\n",
        "\n",
        "- Clustering, PCA, random forest, etc. Not necessary (universal function approximator) but makes training easier in cases in which the features have very different scales.\n",
        "\n",
        "\n",
        "Normalize the data. Be sure to normalize the test set with the training set mean and standard deviation. Don't forget to convert the training and testing sets to `float32`."
      ]
    },
    {
      "cell_type": "code",
      "metadata": {
        "id": "-jPrAAxCOMOi"
      },
      "source": [
        "x_train = x_train.astype('float32')\n",
        "x_test = x_test.astype('float32')\n",
        "\n",
        "mean = x_train.mean()\n",
        "x_train -= mean\n",
        "std = x_train.std()\n",
        "x_train /= std\n",
        "\n",
        "x_test -= mean\n",
        "x_test /= std"
      ],
      "execution_count": 30,
      "outputs": []
    },
    {
      "cell_type": "markdown",
      "metadata": {
        "id": "1mT9w8LNOS4s"
      },
      "source": [
        "How will the code above need to be changed for Boston housing dataset? Why?\n",
        "\n",
        "- Need to calculate mean and standard deviation per feature, thus need to use something like `x_train.mean(axis=0)`.\n",
        "\n",
        "Before we define and fit our model let's one-hot encode the labels. Don't forget to do the same for the testing labels and note you will not need to do this step in the case of regression."
      ]
    },
    {
      "cell_type": "code",
      "metadata": {
        "colab": {
          "base_uri": "https://localhost:8080/"
        },
        "id": "4zytqKN1OTBc",
        "outputId": "5c9d5694-b8a6-4e74-87b7-4c4b34ef5bc5"
      },
      "source": [
        "y_train.shape"
      ],
      "execution_count": 31,
      "outputs": [
        {
          "output_type": "execute_result",
          "data": {
            "text/plain": [
              "(60000,)"
            ]
          },
          "metadata": {},
          "execution_count": 31
        }
      ]
    },
    {
      "cell_type": "code",
      "metadata": {
        "colab": {
          "base_uri": "https://localhost:8080/"
        },
        "id": "bpMQ9VuuOiD_",
        "outputId": "4a5ab0fc-6a4d-46c8-b0f6-c560d17811e7"
      },
      "source": [
        "\n",
        "y_train = tf.keras.utils.to_categorical(y_train, 10)\n",
        "y_test = tf.keras.utils.to_categorical(y_test, 10)\n",
        "y_train.shape"
      ],
      "execution_count": 32,
      "outputs": [
        {
          "output_type": "execute_result",
          "data": {
            "text/plain": [
              "(60000, 10)"
            ]
          },
          "metadata": {},
          "execution_count": 32
        }
      ]
    },
    {
      "cell_type": "markdown",
      "metadata": {
        "id": "F751KKZvOTIb"
      },
      "source": [
        "Now fit a shallow convolutional neural network with two `Dense` layers. Include one convolutional layer with 32 convolutional filters of size 3x3 and use the `relu` activation function.\n",
        "\n",
        "After the convolutional layer, flatten the tensor to be fed into the `Dense` layers.\n",
        "\n",
        "Add a `Dense` layer with 64 hidden nodes and `relu` activation function.\n",
        "\n",
        "In the output `Dense` layer use enough output nodes to have one corresponding to each class label (10). What is the activation function you should use here?\n",
        "\n",
        "In the optimizer use the `Adadelta` optimization function, and choose an appropriate loss function and model performance measure.\n",
        "\n",
        "Run the network for 5 epochs and use a `batch_size` of 64."
      ]
    },
    {
      "cell_type": "code",
      "metadata": {
        "colab": {
          "base_uri": "https://localhost:8080/"
        },
        "id": "PwOybXCaOTQI",
        "outputId": "62d97e68-e1f3-4af8-f5da-5fcc49f4ee14"
      },
      "source": [
        "# Define model\n",
        "model = keras.Sequential([\n",
        "  layers.Conv2D(32, (3, 3), activation='relu', input_shape = input_shape),\n",
        "\n",
        "  layers.Flatten(),\n",
        "\n",
        "  layers.Dense(64, activation='relu'),\n",
        "\n",
        "  layers.Dense(10, activation='softmax')\n",
        "])\n",
        "\n",
        "model.compile(loss = 'categorical_crossentropy',\n",
        "              optimizer = tf.keras.optimizers.Adadelta(),\n",
        "              metrics = ['accuracy'])\n",
        "\n",
        "model.fit(x_train, y_train, batch_size = 64, epochs = 5, verbose = 1)"
      ],
      "execution_count": 33,
      "outputs": [
        {
          "output_type": "stream",
          "name": "stdout",
          "text": [
            "Epoch 1/5\n",
            "938/938 [==============================] - 43s 45ms/step - loss: 1.8549 - accuracy: 0.5273\n",
            "Epoch 2/5\n",
            "938/938 [==============================] - 40s 42ms/step - loss: 1.1654 - accuracy: 0.8015\n",
            "Epoch 3/5\n",
            "938/938 [==============================] - 40s 42ms/step - loss: 0.8089 - accuracy: 0.8453\n",
            "Epoch 4/5\n",
            "938/938 [==============================] - 42s 45ms/step - loss: 0.6287 - accuracy: 0.8652\n",
            "Epoch 5/5\n",
            "938/938 [==============================] - 40s 42ms/step - loss: 0.5292 - accuracy: 0.8781\n"
          ]
        },
        {
          "output_type": "execute_result",
          "data": {
            "text/plain": [
              "<keras.src.callbacks.History at 0x7ad564c36dd0>"
            ]
          },
          "metadata": {},
          "execution_count": 33
        }
      ]
    },
    {
      "cell_type": "markdown",
      "metadata": {
        "id": "LEqXOKjjOTXq"
      },
      "source": [
        "Report the test set accuracy."
      ]
    },
    {
      "cell_type": "code",
      "metadata": {
        "colab": {
          "base_uri": "https://localhost:8080/"
        },
        "id": "8dJTnuMKO50z",
        "outputId": "7041f341-d5b2-43d4-ccab-8166e77d5662"
      },
      "source": [
        "test_loss, test_acc = model.evaluate(x_test, y_test, verbose=0)\n",
        "print(test_acc)"
      ],
      "execution_count": null,
      "outputs": [
        {
          "output_type": "stream",
          "text": [
            "0.8937000036239624\n"
          ],
          "name": "stdout"
        }
      ]
    }
  ]
}