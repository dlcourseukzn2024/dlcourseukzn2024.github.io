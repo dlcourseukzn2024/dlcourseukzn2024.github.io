{
  "nbformat": 4,
  "nbformat_minor": 0,
  "metadata": {
    "kernelspec": {
      "display_name": "Python 3",
      "language": "python",
      "name": "python3"
    },
    "language_info": {
      "codemirror_mode": {
        "name": "ipython",
        "version": 3
      },
      "file_extension": ".py",
      "mimetype": "text/x-python",
      "name": "python",
      "nbconvert_exporter": "python",
      "pygments_lexer": "ipython3",
      "version": "3.7.4"
    },
    "colab": {
      "provenance": []
    }
  },
  "cells": [
    {
      "cell_type": "markdown",
      "metadata": {
        "id": "Xa7m03wXDqPr"
      },
      "source": [
        "# Lab #2\n",
        "\n",
        "Today's lab consists of practice questions to review MLPs and introduce CNNs."
      ]
    },
    {
      "cell_type": "markdown",
      "metadata": {
        "id": "hejoZsPFRjck"
      },
      "source": [
        "## Question 1\n",
        "### Classifying newswires: a multi-class classification example\n",
        "In this example we will build a network to classify Reuters newswires into 46 different mutually-exclusive topics. Examples include cocoa, soybeans and livestock. Since we have many classes, this problem is an instance of \"multi-class classification\", and since each data point should be classified into only one category, the problem is more specifically an instance of \"single-label, multi-class classification\". If each data point could have belonged to multiple categories (in our case, topics) then we would be facing a \"multi-label, multi-class classification\" problem.\n",
        "\n",
        "### The Reuters dataset\n",
        "We will be working with the Reuters dataset, a set of short newswires and their topics, published by Reuters in 1986. It's a very simple, widely used toy dataset for text classification. There are 46 different topics; some topics are more represented than others, but each topic has at least 10 examples in the training set.\n",
        "\n",
        "Like IMDB and MNIST, the Reuters dataset comes packaged as part of Keras. Let's take a look:"
      ]
    },
    {
      "cell_type": "code",
      "metadata": {
        "id": "F21qC4YGaD_c"
      },
      "source": [
        "# Import needed packages\n",
        "import tensorflow as tf\n",
        "import numpy as np\n",
        "from tensorflow import keras\n",
        "import pandas as pd\n",
        "from tensorflow.keras.datasets import reuters\n",
        "from keras.utils import to_categorical\n",
        "from tensorflow.keras import layers\n",
        "import matplotlib.pyplot as plt\n",
        "%matplotlib inline"
      ],
      "execution_count": null,
      "outputs": []
    },
    {
      "cell_type": "code",
      "metadata": {
        "id": "2bj-8a5pSHrP"
      },
      "source": [
        "#Load data\n",
        "(train_data, train_labels), (test_data, test_labels) = reuters.load_data(num_words=10000)"
      ],
      "execution_count": null,
      "outputs": []
    },
    {
      "cell_type": "markdown",
      "metadata": {
        "id": "IeKpfUp4SM7R"
      },
      "source": [
        "\n",
        "Like with the IMDB dataset, the argument `num_words=10000` restricts the data to the 10,000 most frequently occurring words found in the data.\n",
        "\n",
        "We have 8,982 training examples and 2,246 test examples:"
      ]
    },
    {
      "cell_type": "code",
      "metadata": {
        "id": "20B91L0uSQ_N",
        "colab": {
          "base_uri": "https://localhost:8080/"
        },
        "outputId": "950133a3-ca05-45b3-a90f-d20f7e06a2b2"
      },
      "source": [
        "len(train_data)"
      ],
      "execution_count": null,
      "outputs": [
        {
          "output_type": "execute_result",
          "data": {
            "text/plain": [
              "8982"
            ]
          },
          "metadata": {},
          "execution_count": 31
        }
      ]
    },
    {
      "cell_type": "code",
      "metadata": {
        "id": "5Jv5QgpnSTR5",
        "colab": {
          "base_uri": "https://localhost:8080/"
        },
        "outputId": "b0b7dc97-b0f3-4159-c5e2-22ace8afcf09"
      },
      "source": [
        "len(test_data)"
      ],
      "execution_count": null,
      "outputs": [
        {
          "output_type": "execute_result",
          "data": {
            "text/plain": [
              "2246"
            ]
          },
          "metadata": {},
          "execution_count": 32
        }
      ]
    },
    {
      "cell_type": "markdown",
      "metadata": {
        "id": "gyEQIdwGSWiA"
      },
      "source": [
        "As with the IMDB reviews, each example is a list of integers (word indices):"
      ]
    },
    {
      "cell_type": "code",
      "metadata": {
        "id": "39RJvzpHSWq5",
        "colab": {
          "base_uri": "https://localhost:8080/"
        },
        "outputId": "2359cdbc-acd1-4900-9459-a4d769c8da30"
      },
      "source": [
        "train_data[10]"
      ],
      "execution_count": null,
      "outputs": [
        {
          "output_type": "execute_result",
          "data": {
            "text/plain": [
              "[1,\n",
              " 4,\n",
              " 686,\n",
              " 867,\n",
              " 558,\n",
              " 4,\n",
              " 37,\n",
              " 38,\n",
              " 309,\n",
              " 2276,\n",
              " 465,\n",
              " 893,\n",
              " 3541,\n",
              " 114,\n",
              " 2902,\n",
              " 69,\n",
              " 312,\n",
              " 35,\n",
              " 15,\n",
              " 7,\n",
              " 335,\n",
              " 1679,\n",
              " 21,\n",
              " 25,\n",
              " 3675,\n",
              " 2,\n",
              " 3498,\n",
              " 58,\n",
              " 69,\n",
              " 68,\n",
              " 493,\n",
              " 5,\n",
              " 25,\n",
              " 465,\n",
              " 377,\n",
              " 2430,\n",
              " 4,\n",
              " 293,\n",
              " 1172,\n",
              " 739,\n",
              " 4379,\n",
              " 8,\n",
              " 7,\n",
              " 1510,\n",
              " 1131,\n",
              " 13,\n",
              " 899,\n",
              " 6,\n",
              " 4,\n",
              " 990,\n",
              " 309,\n",
              " 415,\n",
              " 4519,\n",
              " 6920,\n",
              " 645,\n",
              " 3916,\n",
              " 791,\n",
              " 5,\n",
              " 4379,\n",
              " 75,\n",
              " 8,\n",
              " 24,\n",
              " 10,\n",
              " 1311,\n",
              " 4677,\n",
              " 5,\n",
              " 344,\n",
              " 756,\n",
              " 7,\n",
              " 2,\n",
              " 231,\n",
              " 9691,\n",
              " 2603,\n",
              " 1413,\n",
              " 43,\n",
              " 509,\n",
              " 43,\n",
              " 68,\n",
              " 327,\n",
              " 5,\n",
              " 2,\n",
              " 3498,\n",
              " 297,\n",
              " 638,\n",
              " 73,\n",
              " 430,\n",
              " 22,\n",
              " 4,\n",
              " 580,\n",
              " 7,\n",
              " 48,\n",
              " 41,\n",
              " 30,\n",
              " 2,\n",
              " 136,\n",
              " 4,\n",
              " 344,\n",
              " 298,\n",
              " 4,\n",
              " 580,\n",
              " 40,\n",
              " 344,\n",
              " 5078,\n",
              " 2,\n",
              " 291,\n",
              " 1488,\n",
              " 10,\n",
              " 3148,\n",
              " 5,\n",
              " 231,\n",
              " 6250,\n",
              " 1308,\n",
              " 5,\n",
              " 8250,\n",
              " 7043,\n",
              " 21,\n",
              " 2,\n",
              " 1622,\n",
              " 990,\n",
              " 309,\n",
              " 415,\n",
              " 265,\n",
              " 5992,\n",
              " 8945,\n",
              " 1149,\n",
              " 9118,\n",
              " 2,\n",
              " 4,\n",
              " 344,\n",
              " 9691,\n",
              " 756,\n",
              " 3729,\n",
              " 2,\n",
              " 4667,\n",
              " 2,\n",
              " 3249,\n",
              " 28,\n",
              " 10,\n",
              " 2190,\n",
              " 24,\n",
              " 77,\n",
              " 41,\n",
              " 682,\n",
              " 10,\n",
              " 4851,\n",
              " 2048,\n",
              " 7,\n",
              " 4,\n",
              " 5540,\n",
              " 2926,\n",
              " 1598,\n",
              " 22,\n",
              " 370,\n",
              " 5954,\n",
              " 7541,\n",
              " 5,\n",
              " 54,\n",
              " 5232,\n",
              " 1685,\n",
              " 2916,\n",
              " 10,\n",
              " 1571,\n",
              " 946,\n",
              " 60,\n",
              " 51,\n",
              " 3249,\n",
              " 5249,\n",
              " 4,\n",
              " 73,\n",
              " 2135,\n",
              " 669,\n",
              " 4,\n",
              " 580,\n",
              " 64,\n",
              " 10,\n",
              " 4280,\n",
              " 6,\n",
              " 2,\n",
              " 25,\n",
              " 482,\n",
              " 35,\n",
              " 150,\n",
              " 377,\n",
              " 2430,\n",
              " 7,\n",
              " 10,\n",
              " 2,\n",
              " 836,\n",
              " 2,\n",
              " 4730,\n",
              " 6920,\n",
              " 5,\n",
              " 4379,\n",
              " 2,\n",
              " 2,\n",
              " 3541,\n",
              " 8,\n",
              " 4,\n",
              " 344,\n",
              " 291,\n",
              " 2,\n",
              " 298,\n",
              " 4228,\n",
              " 6,\n",
              " 2223,\n",
              " 24,\n",
              " 2,\n",
              " 41,\n",
              " 343,\n",
              " 430,\n",
              " 210,\n",
              " 6,\n",
              " 3498,\n",
              " 297,\n",
              " 64,\n",
              " 10,\n",
              " 2281,\n",
              " 455,\n",
              " 5,\n",
              " 7003,\n",
              " 125,\n",
              " 222,\n",
              " 17,\n",
              " 12]"
            ]
          },
          "metadata": {},
          "execution_count": 83
        }
      ]
    },
    {
      "cell_type": "markdown",
      "metadata": {
        "id": "C0OquFanSbQF"
      },
      "source": [
        "Here's how you can decode it back to words, in case you are curious:"
      ]
    },
    {
      "cell_type": "code",
      "metadata": {
        "id": "V4iPPKqRSbZ4"
      },
      "source": [
        "word_index = reuters.get_word_index()\n",
        "reverse_word_index = dict([(value, key) for (key, value) in word_index.items()])\n",
        "# Note that our indices were offset by 3\n",
        "# because 0, 1 and 2 are reserved indices for \"padding\", \"start of sequence\", and \"unknown\".\n",
        "decoded_newswire = ' '.join([reverse_word_index.get(i - 3, '?') for i in train_data[0]])"
      ],
      "execution_count": null,
      "outputs": []
    },
    {
      "cell_type": "code",
      "metadata": {
        "id": "7m3ibg4OShQN",
        "colab": {
          "base_uri": "https://localhost:8080/",
          "height": 142
        },
        "outputId": "ef2e89c3-5829-490c-ecaf-daec5d1814c7"
      },
      "source": [
        "decoded_newswire"
      ],
      "execution_count": null,
      "outputs": [
        {
          "output_type": "execute_result",
          "data": {
            "text/plain": [
              "\"? the farmers home administration the u s agriculture department's farm lending arm could lose about seven billion dlrs in outstanding principal on its severely ? borrowers or about one fourth of its farm loan portfolio the general accounting office gao said in remarks prepared for delivery to the senate agriculture committee brian crowley senior associate director of gao also said that a preliminary analysis of proposed changes in ? financial eligibility standards indicated as many as one half of ? borrowers who received new loans from the agency in 1986 would be ? under the proposed system the agency has proposed evaluating ? credit using a variety of financial ratios instead of relying solely on ? ability senate agriculture committee chairman patrick leahy d vt ? the proposed eligibility changes telling ? administrator ? clark at a hearing that they would mark a dramatic shift in the agency's purpose away from being farmers' lender of last resort toward becoming a big city bank but clark defended the new regulations saying the agency had a responsibility to ? its 70 billion dlr loan portfolio in a ? yet ? manner crowley of gao ? ? arm said the proposed credit ? system attempted to ensure that ? would make loans only to borrowers who had a reasonable change of repaying their debt reuter 3\""
            ],
            "application/vnd.google.colaboratory.intrinsic+json": {
              "type": "string"
            }
          },
          "metadata": {},
          "execution_count": 87
        }
      ]
    },
    {
      "cell_type": "markdown",
      "metadata": {
        "id": "xQcVuTS4SksC"
      },
      "source": [
        "The label associated with an example is an integer between 0 and 45: a topic index."
      ]
    },
    {
      "cell_type": "code",
      "metadata": {
        "id": "a1tuutnKSkzc",
        "colab": {
          "base_uri": "https://localhost:8080/"
        },
        "outputId": "9a144e2d-966a-4522-a950-0610e2fe967e"
      },
      "source": [
        "train_labels[10]"
      ],
      "execution_count": null,
      "outputs": [
        {
          "output_type": "execute_result",
          "data": {
            "text/plain": [
              "3"
            ]
          },
          "metadata": {},
          "execution_count": 36
        }
      ]
    },
    {
      "cell_type": "markdown",
      "metadata": {
        "id": "Bgl31PVUUb8D"
      },
      "source": [
        "### Preparing the data\n",
        "We can vectorize the data with the exact same code as in our previous example:"
      ]
    },
    {
      "cell_type": "code",
      "metadata": {
        "id": "SQKJUf4BUdWA"
      },
      "source": [
        "def vectorize_sequences(sequences, dimension=10000):\n",
        "    results = np.zeros((len(sequences), dimension))\n",
        "    for i, sequence in enumerate(sequences):\n",
        "        results[i, sequence] = 1.\n",
        "    return results\n",
        "\n",
        "# Our vectorized training data\n",
        "x_train = vectorize_sequences(train_data)\n",
        "# Our vectorized test data\n",
        "x_test = vectorize_sequences(test_data)"
      ],
      "execution_count": null,
      "outputs": []
    },
    {
      "cell_type": "markdown",
      "metadata": {
        "id": "HjfJwkyNUiBA"
      },
      "source": [
        "To vectorize the labels, there are two possibilities: we could just cast the label list as an integer tensor, or we could use a \"one-hot\" encoding. One-hot encoding is a widely used format for categorical data, also called \"categorical encoding\". For a more detailed explanation of one-hot encoding, you can refer to Chapter 6, Section 1 in [Deep Learning with Python](https://www.manning.com/books/deep-learning-with-python). In our case, one-hot encoding of our labels consists in embedding each label as an all-zero vector with a 1 in the place of the label index, e.g.:"
      ]
    },
    {
      "cell_type": "code",
      "metadata": {
        "id": "WTo5jwwCUiJl"
      },
      "source": [
        "def to_one_hot(labels, dimension=46):\n",
        "    results = np.zeros((len(labels), dimension))\n",
        "    for i, label in enumerate(labels):\n",
        "        results[i, label] = 1.\n",
        "    return results\n",
        "\n",
        "# Our vectorized training labels\n",
        "one_hot_train_labels = to_one_hot(train_labels)\n",
        "# Our vectorized test labels\n",
        "one_hot_test_labels = to_one_hot(test_labels)"
      ],
      "execution_count": null,
      "outputs": []
    },
    {
      "cell_type": "markdown",
      "metadata": {
        "id": "DP6WFacpUn1J"
      },
      "source": [
        "Note that there is a built-in way to do this in Keras, which you have already seen in action in our MNIST example:"
      ]
    },
    {
      "cell_type": "code",
      "metadata": {
        "id": "CurEVzaWUn9c"
      },
      "source": [
        "one_hot_train_labels = to_categorical(train_labels)\n",
        "one_hot_test_labels = to_categorical(test_labels)"
      ],
      "execution_count": null,
      "outputs": []
    },
    {
      "cell_type": "markdown",
      "metadata": {
        "id": "xkgvTFgEUraG"
      },
      "source": [
        "### Building our network\n",
        "This topic classification problem looks very similar to our previous movie review classification problem: in both cases, we are trying to classify short snippets of text. There is however a new constraint here: the number of output classes has gone from 2 to 46, i.e. the dimensionality of the output space is much larger.\n",
        "\n",
        "In a stack of `Dense` layers like what we were using, each layer can only access information present in the output of the previous layer. If one layer drops some information relevant to the classification problem, this information can never be recovered by later layers: each layer can potentially become an \"information bottleneck\". In our previous example, we were using 16-dimensional intermediate layers, but a 16-dimensional space may be too limited to learn to separate 46 different classes: such small layers may act as information bottlenecks, permanently dropping relevant information. For this reason we will use larger layers.\n",
        "\n",
        "Build a networks with 2 hidden layers, each with 64 hidden units, and an appropriate output layer. Remember to include the correct `input_shape` in the first hidden layer."
      ]
    },
    {
      "cell_type": "code",
      "metadata": {
        "id": "MizNFbsLUrh_"
      },
      "source": [
        "# Define model\n"
      ],
      "execution_count": null,
      "outputs": []
    },
    {
      "cell_type": "markdown",
      "metadata": {
        "id": "LranuTl_U10d"
      },
      "source": [
        "Code the `model.compile` function with `rmsprop` optimizer, `accuracy` performance metric and appropriate loss function."
      ]
    },
    {
      "cell_type": "code",
      "metadata": {
        "id": "tdi3F-1wU18H"
      },
      "source": [
        "\n",
        "# Define how to execute training\n"
      ],
      "execution_count": null,
      "outputs": []
    },
    {
      "cell_type": "markdown",
      "metadata": {
        "id": "8UjL7xwcU7vM"
      },
      "source": [
        "### Validating our approach\n",
        "Let's set apart 1,000 samples in our training data to use as a validation set:"
      ]
    },
    {
      "cell_type": "code",
      "metadata": {
        "id": "wMTJ3h9QU73v"
      },
      "source": [
        "x_val = x_train[:1000]\n",
        "partial_x_train = x_train[1000:]\n",
        "\n",
        "y_val = one_hot_train_labels[:1000]\n",
        "partial_y_train = one_hot_train_labels[1000:]"
      ],
      "execution_count": null,
      "outputs": []
    },
    {
      "cell_type": "markdown",
      "metadata": {
        "id": "4GrP5GtKVENc"
      },
      "source": [
        "Train the network for 20 epochs with a batch size of 512. Be sure to make use of the validation set."
      ]
    },
    {
      "cell_type": "markdown",
      "metadata": {
        "id": "5an-LHCrVL0F"
      },
      "source": [
        "\n",
        "Display its loss and accuracy curves."
      ]
    },
    {
      "cell_type": "code",
      "metadata": {
        "id": "P0BQ_2dwVL8t"
      },
      "source": [
        "import seaborn as sns\n",
        "sns.set()\n",
        "\n",
        "# Your code here"
      ],
      "execution_count": null,
      "outputs": []
    },
    {
      "cell_type": "markdown",
      "metadata": {
        "id": "s5jqIjbAVXJj"
      },
      "source": [
        "It seems that the network starts overfitting after 8 epochs. Train a new network from scratch for 8 epochs, then evaluate it on the test set."
      ]
    },
    {
      "cell_type": "code",
      "metadata": {
        "id": "vPa6z15XVXRX"
      },
      "source": [
        "# Your code here"
      ],
      "execution_count": null,
      "outputs": []
    },
    {
      "cell_type": "code",
      "metadata": {
        "id": "ck2aDq1HVghr",
        "colab": {
          "base_uri": "https://localhost:8080/"
        },
        "outputId": "b8f61b30-ea96-4ff9-d611-10b1a1bf98ec"
      },
      "source": [
        "results = model.evaluate(x_test, one_hot_test_labels)\n",
        "results"
      ],
      "execution_count": null,
      "outputs": [
        {
          "output_type": "stream",
          "name": "stdout",
          "text": [
            "71/71 [==============================] - 0s 3ms/step - loss: 1.2380 - Accuracy: 0.7916\n"
          ]
        },
        {
          "output_type": "execute_result",
          "data": {
            "text/plain": [
              "[1.2379708290100098, 0.7916295528411865]"
            ]
          },
          "metadata": {},
          "execution_count": 28
        }
      ]
    },
    {
      "cell_type": "markdown",
      "metadata": {
        "id": "HAqekri9VkVV"
      },
      "source": [
        "Our approach reaches an accuracy of ~78%. With a balanced binary classification problem, the accuracy reached by a purely random classifier would be 50%, but in our case it is closer to 19%, so our results seem pretty good, at least when compared to a random baseline:"
      ]
    },
    {
      "cell_type": "code",
      "metadata": {
        "id": "rPbrANxJVkwh"
      },
      "source": [
        "import copy\n",
        "\n",
        "test_labels_copy = copy.copy(test_labels)\n",
        "np.random.shuffle(test_labels_copy)\n",
        "float(np.sum(np.array(test_labels) == np.array(test_labels_copy))) / len(test_labels)"
      ],
      "execution_count": null,
      "outputs": []
    },
    {
      "cell_type": "markdown",
      "metadata": {
        "id": "ACx1ah7ZVrZb"
      },
      "source": [
        "### On the importance of having sufficiently large intermediate layers\n",
        "We mentioned earlier that since our final outputs were 46-dimensional, we should avoid intermediate layers with much less than 46 hidden units. See what happens when you introduce an information bottleneck by setting the number of nodes in the second hidden layer to 4."
      ]
    },
    {
      "cell_type": "code",
      "metadata": {
        "id": "iMc7LyNpV6M7"
      },
      "source": [
        "# Your code here"
      ],
      "execution_count": null,
      "outputs": []
    },
    {
      "cell_type": "markdown",
      "metadata": {
        "id": "R_5ACNQHVgqk"
      },
      "source": [
        "Our network now seems to peak at ~66% test accuracy, a 12% absolute drop. This drop is mostly due to the fact that we are now trying to compress a lot of information (enough information to recover the separation hyperplanes of 46 classes) into an intermediate space that is too low-dimensional. The network is able to cram most of the necessary information into these 8-dimensional representations, but not all of it.\n",
        "\n",
        "### Further experiments\n",
        "1. Try using larger or smaller layers: 32 units, 128 units...\n",
        "2. We were using two hidden layers. Now try to use a single hidden layer, or three hidden layers."
      ]
    },
    {
      "cell_type": "markdown",
      "metadata": {
        "id": "HdEQ4utLNWYz"
      },
      "source": [
        "# Introduction to CNNs\n",
        "## Question 2: Classifying Digits\n",
        "Let's revisit the MNIST dataset and build a CNN classifier.\n",
        "\n",
        "Load the MNIST dataset provided by keras. This contains 60,000 28x28 grayscale images of the 10 digits, along with a test set of 10,000 images. Split the data into training and testing sets."
      ]
    },
    {
      "cell_type": "code",
      "metadata": {
        "id": "7lW91M78Nh1G"
      },
      "source": [
        "# Load data\n",
        "from tensorflow.keras.datasets import mnist\n",
        "(x_train, y_train), (x_test, y_test) = mnist.load_data()"
      ],
      "execution_count": null,
      "outputs": []
    },
    {
      "cell_type": "markdown",
      "metadata": {
        "id": "8ivhL6kMN2AF"
      },
      "source": [
        "Print the shape of the training and test sets."
      ]
    },
    {
      "cell_type": "code",
      "metadata": {
        "id": "M73qe9-uNqi3",
        "colab": {
          "base_uri": "https://localhost:8080/"
        },
        "outputId": "6dfead65-6e8d-4a0a-c65c-f94f636179bc"
      },
      "source": [
        "# Your code here\n",
        "print(x_train.shape)\n",
        "print(x_test.shape)\n",
        "print(y_train.shape)\n",
        "print(y_test.shape)"
      ],
      "execution_count": null,
      "outputs": [
        {
          "output_type": "stream",
          "name": "stdout",
          "text": [
            "(60000, 28, 28, 1)\n",
            "(10000, 28, 28, 1)\n",
            "(60000,)\n",
            "(10000,)\n"
          ]
        }
      ]
    },
    {
      "cell_type": "markdown",
      "metadata": {
        "id": "6fjbkbSbN99m"
      },
      "source": [
        "Let's reshape the data to fit the keras format. Don't worry too much about this chunk for now."
      ]
    },
    {
      "cell_type": "code",
      "metadata": {
        "id": "S_hgRP9vN-H9"
      },
      "source": [
        "from keras import backend as K\n",
        "if K.image_data_format() == 'channels_first':\n",
        "    x_train = x_train.reshape(x_train.shape[0], 1, 28, 28)\n",
        "    x_test = x_test.reshape(x_test.shape[0], 1, 28, 28)\n",
        "    input_shape = (1, 28, 28)\n",
        "else:\n",
        "    x_train = x_train.reshape(x_train.shape[0], 28, 28, 1)\n",
        "    x_test = x_test.reshape(x_test.shape[0], 28, 28, 1)\n",
        "    input_shape = (28, 28, 1)"
      ],
      "execution_count": null,
      "outputs": []
    },
    {
      "cell_type": "markdown",
      "metadata": {
        "id": "bok_81bON-Qb"
      },
      "source": [
        "Now print the shape again to see what changed."
      ]
    },
    {
      "cell_type": "code",
      "metadata": {
        "id": "u_nhHRULN-Z1",
        "colab": {
          "base_uri": "https://localhost:8080/"
        },
        "outputId": "fa4a95db-caf6-40c8-9610-56e96dc97399"
      },
      "source": [
        "# Your code here\n",
        "print(x_train.shape)\n",
        "print(x_test.shape)"
      ],
      "execution_count": null,
      "outputs": [
        {
          "output_type": "stream",
          "name": "stdout",
          "text": [
            "(60000, 28, 28, 1)\n",
            "(10000, 28, 28, 1)\n"
          ]
        }
      ]
    },
    {
      "cell_type": "markdown",
      "metadata": {
        "id": "bJ6rhLoFOJEn"
      },
      "source": [
        "Question 2 in Homework 1 asks you to train a neural network on the Boston housing data. This dataset contains features on very different scales (for example there are both binary features and real-valued features). While the MNIST features take on values between 0 and 1 and do not need to be normalized, we will go through the exercise of normalizing the values before training our network.\n",
        "\n",
        "Can you think of other algorithms in which normalization is necessary? Is it necessary in the case of neural networks? Why or why not?\n",
        "\n",
        "- Clustering, PCA, random forest, etc. Not necessary (universal function approximator) but makes training easier in cases in which the features have very different scales.\n",
        "\n",
        "\n",
        "Normalize the data. Be sure to normalize the test set with the training set mean and standard deviation. Don't forget to convert the training and testing sets to `float32`."
      ]
    },
    {
      "cell_type": "code",
      "metadata": {
        "id": "-jPrAAxCOMOi"
      },
      "source": [
        "# Your code here\n",
        "x_train = x_train.astype('float32')\n",
        "x_test = x_test.astype('float32')\n",
        "\n",
        "mean = x_train.mean()\n",
        "std = x_train.std()\n",
        "\n",
        "x_train -=mean\n",
        "x_train /=std\n",
        "\n",
        "x_test -= mean\n",
        "x_test /=std"
      ],
      "execution_count": null,
      "outputs": []
    },
    {
      "cell_type": "markdown",
      "metadata": {
        "id": "1mT9w8LNOS4s"
      },
      "source": [
        "How will the code above need to be changed for Boston housing dataset? Why?\n",
        "\n",
        "- Need to calculate mean and standard deviation per feature, thus need to use something like `x_train.mean(axis=0)`.\n",
        "\n",
        "Before we define and fit our model let's one-hot encode the labels. Don't forget to do the same for the testing labels and note you will not need to do this step in the case of regression."
      ]
    },
    {
      "cell_type": "code",
      "metadata": {
        "id": "4zytqKN1OTBc"
      },
      "source": [
        "# Your code here\n",
        "y_train = tf.keras.utils.to_categorical(y_train, 10)\n",
        "y_test = tf.keras.utils.to_categorical(y_test, 10)"
      ],
      "execution_count": null,
      "outputs": []
    },
    {
      "cell_type": "code",
      "source": [
        "print(y_train)"
      ],
      "metadata": {
        "colab": {
          "base_uri": "https://localhost:8080/"
        },
        "id": "O3KqYVOEFM8q",
        "outputId": "7e3f3c03-b83d-4da5-ba84-0f0547f009bc"
      },
      "execution_count": null,
      "outputs": [
        {
          "output_type": "stream",
          "name": "stdout",
          "text": [
            "[[0. 0. 0. ... 0. 0. 0.]\n",
            " [1. 0. 0. ... 0. 0. 0.]\n",
            " [0. 0. 0. ... 0. 0. 0.]\n",
            " ...\n",
            " [0. 0. 0. ... 0. 0. 0.]\n",
            " [0. 0. 0. ... 0. 0. 0.]\n",
            " [0. 0. 0. ... 0. 1. 0.]]\n"
          ]
        }
      ]
    },
    {
      "cell_type": "code",
      "metadata": {
        "id": "bpMQ9VuuOiD_",
        "colab": {
          "base_uri": "https://localhost:8080/"
        },
        "outputId": "4f557362-7e32-4f99-c1c7-b3484bc2b541"
      },
      "source": [
        "# Your code here\n",
        "print(y_train.shape)"
      ],
      "execution_count": null,
      "outputs": [
        {
          "output_type": "stream",
          "name": "stdout",
          "text": [
            "(60000, 10)\n"
          ]
        }
      ]
    },
    {
      "cell_type": "markdown",
      "metadata": {
        "id": "F751KKZvOTIb"
      },
      "source": [
        "Now fit a shallow convolutional neural network with two `Dense` layers. Include one convolutional layer with 32 convolutional filters of size 3x3 and use the `relu` activation function.\n",
        "\n",
        "After the convolutional layer, flatten the tensor to be fed into the `Dense` layers.\n",
        "\n",
        "Add a `Dense` layer with 64 hidden nodes and `relu` activation function.\n",
        "\n",
        "In the output `Dense` layer use enough output nodes to have one corresponding to each class label (10). What is the activation function you should use here?\n",
        "\n",
        "In the optimizer use the `Adadelta` optimization function, and choose an appropriate loss function and model performance measure.\n",
        "\n",
        "Run the network for 5 epochs and use a `batch_size` of 64."
      ]
    },
    {
      "cell_type": "code",
      "metadata": {
        "id": "PwOybXCaOTQI"
      },
      "source": [
        "# Your code here\n",
        "model = keras.Sequential([\n",
        "    layers.Conv2D(32, (3, 3), activation = 'relu', input_shape = input_shape),\n",
        "    layers.Flatten(),\n",
        "    layers.Dense(64, activation = 'relu'),\n",
        "    layers.Dense(10, activation = 'softmax')\n",
        "])"
      ],
      "execution_count": null,
      "outputs": []
    },
    {
      "cell_type": "code",
      "source": [
        "model.compile(optimizer= tf.keras.optimizers.Adadelta(),\n",
        "              loss='categorical_crossentropy',\n",
        "              metrics=['accuracy'])"
      ],
      "metadata": {
        "id": "ruSS_AxgK1oN"
      },
      "execution_count": null,
      "outputs": []
    },
    {
      "cell_type": "code",
      "source": [
        "history = model.fit(x=x_train,\n",
        "          y=y_train,\n",
        "          batch_size=64,\n",
        "          epochs=5, validation_split=0.2)"
      ],
      "metadata": {
        "colab": {
          "base_uri": "https://localhost:8080/"
        },
        "id": "z4z59yvYSCD_",
        "outputId": "02940730-208a-4fdc-a033-15006d810d34"
      },
      "execution_count": null,
      "outputs": [
        {
          "output_type": "stream",
          "name": "stdout",
          "text": [
            "Epoch 1/5\n",
            "750/750 [==============================] - 36s 48ms/step - loss: 0.3767 - accuracy: 0.8981 - val_loss: 0.3407 - val_accuracy: 0.9091\n",
            "Epoch 2/5\n",
            "750/750 [==============================] - 35s 47ms/step - loss: 0.3638 - accuracy: 0.9002 - val_loss: 0.3304 - val_accuracy: 0.9115\n",
            "Epoch 3/5\n",
            "750/750 [==============================] - 34s 46ms/step - loss: 0.3528 - accuracy: 0.9032 - val_loss: 0.3217 - val_accuracy: 0.9133\n",
            "Epoch 4/5\n",
            "750/750 [==============================] - 35s 47ms/step - loss: 0.3432 - accuracy: 0.9052 - val_loss: 0.3145 - val_accuracy: 0.9143\n",
            "Epoch 5/5\n",
            "750/750 [==============================] - 36s 48ms/step - loss: 0.3349 - accuracy: 0.9071 - val_loss: 0.3075 - val_accuracy: 0.9153\n"
          ]
        }
      ]
    },
    {
      "cell_type": "code",
      "source": [
        "tr_acc = history.history['accuracy']\n",
        "tr_loss = history.history['loss']\n",
        "val_acc = history.history['val_accuracy']\n",
        "val_loss = history.history['val_loss']\n",
        "epochs = range(1, len(tr_acc)+1)"
      ],
      "metadata": {
        "id": "OM_tqILhVuan"
      },
      "execution_count": null,
      "outputs": []
    },
    {
      "cell_type": "code",
      "source": [
        "plt.plot(epochs, tr_acc, label='Trainig Accuracy')\n",
        "plt.plot(epochs, val_acc, label='Validation Accuracy')\n",
        "plt.xlabel('Epochs')\n",
        "plt.ylabel('Accuracy')\n",
        "plt.legend()"
      ],
      "metadata": {
        "colab": {
          "base_uri": "https://localhost:8080/",
          "height": 476
        },
        "id": "eynNEngYXnZP",
        "outputId": "f39fadb3-bf1f-451a-b09d-6646eb6abcd6"
      },
      "execution_count": null,
      "outputs": [
        {
          "output_type": "execute_result",
          "data": {
            "text/plain": [
              "<matplotlib.legend.Legend at 0x7fa4941cd780>"
            ]
          },
          "metadata": {},
          "execution_count": 129
        },
        {
          "output_type": "display_data",
          "data": {
            "text/plain": [
              "<Figure size 640x480 with 1 Axes>"
            ],
            "image/png": "[encoded data removed]"
          },
          "metadata": {}
        }
      ]
    },
    {
      "cell_type": "code",
      "source": [
        "plt.plot(epochs, tr_loss, label='Trainig Loss')\n",
        "plt.plot(epochs, val_loss, label='Validation Loss')\n",
        "plt.legend()"
      ],
      "metadata": {
        "colab": {
          "base_uri": "https://localhost:8080/",
          "height": 457
        },
        "id": "fKnLLkQKYpG5",
        "outputId": "9d34e635-dabd-4f88-f608-915d6d0eeaf6"
      },
      "execution_count": null,
      "outputs": [
        {
          "output_type": "execute_result",
          "data": {
            "text/plain": [
              "<matplotlib.legend.Legend at 0x7fa44ff12a40>"
            ]
          },
          "metadata": {},
          "execution_count": 127
        },
        {
          "output_type": "display_data",
          "data": {
            "text/plain": [
              "<Figure size 640x480 with 1 Axes>"
            ],
            "image/png": "[encoded data removed]"
          },
          "metadata": {}
        }
      ]
    },
    {
      "cell_type": "markdown",
      "metadata": {
        "id": "LEqXOKjjOTXq"
      },
      "source": [
        "Report the test set accuracy."
      ]
    },
    {
      "cell_type": "code",
      "metadata": {
        "id": "8dJTnuMKO50z",
        "colab": {
          "base_uri": "https://localhost:8080/"
        },
        "outputId": "5837163f-2a98-4e2a-e992-c87c2d3b42d5"
      },
      "source": [
        "# Your code here\n",
        "model.evaluate(x=x_test, y=y_test)"
      ],
      "execution_count": null,
      "outputs": [
        {
          "output_type": "stream",
          "name": "stdout",
          "text": [
            "313/313 [==============================] - 4s 11ms/step - loss: 0.4366 - accuracy: 0.8900\n"
          ]
        },
        {
          "output_type": "execute_result",
          "data": {
            "text/plain": [
              "[0.43657466769218445, 0.8899999856948853]"
            ]
          },
          "metadata": {},
          "execution_count": 121
        }
      ]
    }
  ]
}