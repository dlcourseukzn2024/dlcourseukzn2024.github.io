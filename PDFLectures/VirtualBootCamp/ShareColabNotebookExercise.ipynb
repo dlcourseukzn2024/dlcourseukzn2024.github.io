{
 "cells": [
  {
   "cell_type": "markdown",
   "id": "220ce158",
   "metadata": {},
   "source": [
    "# Edit1 - Place Title Here\n",
    "Edit2 - Explain what BMI is.\n",
    "Edit3 - Describe how to calculate it."
   ]
  },
  {
   "cell_type": "code",
   "execution_count": 5,
   "id": "9d8602dc",
   "metadata": {},
   "outputs": [],
   "source": [
    "import ipywidgets as widgets\n",
    "from IPython.display import display\n",
    "from ipywidgets import interact"
   ]
  },
  {
   "cell_type": "code",
   "execution_count": 15,
   "id": "5df4a521",
   "metadata": {},
   "outputs": [
    {
     "data": {
      "application/vnd.jupyter.widget-view+json": {
       "model_id": "d9357c0ebef14aa49a6b11be459e2ad2",
       "version_major": 2,
       "version_minor": 0
      },
      "text/plain": [
       "interactive(children=(IntSlider(value=50, description='weight', max=150, min=30), Output()), _dom_classes=('wi…"
      ]
     },
     "metadata": {},
     "output_type": "display_data"
    },
    {
     "data": {
      "application/vnd.jupyter.widget-view+json": {
       "model_id": "228d1c53ef794fd181abdb6a16f9dd56",
       "version_major": 2,
       "version_minor": 0
      },
      "text/plain": [
       "FloatSlider(value=1.7, description='height', max=2.2, min=1.2)"
      ]
     },
     "metadata": {},
     "output_type": "display_data"
    },
    {
     "data": {
      "application/vnd.jupyter.widget-view+json": {
       "model_id": "cb0aa8976a3a4ac2a3a4c22f55db9b73",
       "version_major": 2,
       "version_minor": 0
      },
      "text/plain": [
       "IntText(value=17, description='BMI', disabled=True)"
      ]
     },
     "metadata": {},
     "output_type": "display_data"
    }
   ],
   "source": [
    "#Edit4 - create code cell above this one\n",
    "bmi_text = widgets.IntText(disabled=True, description='BMI')\n",
    "h_slider = widgets.FloatSlider(value = 1.7, min=1.2, max=2.2, description='height')#Edit5 - move this line to the cell created in Edit4\n",
    "@interact(weight=(30,150,1))\n",
    "def display_BMI(weight=50):\n",
    "    h = h_slider.value\n",
    "    bmi = weight/(h*h)\n",
    "    bmi_text.value = bmi\n",
    "\n",
    "display(h_slider)##Edit6 - move this line to the cell created in Edit4, below the text inserted in Edit5\n",
    "display(text)"
   ]
  }
 ],
 "metadata": {
  "kernelspec": {
   "display_name": "Python 3",
   "language": "python",
   "name": "python3"
  },
  "language_info": {
   "codemirror_mode": {
    "name": "ipython",
    "version": 3
   },
   "file_extension": ".py",
   "mimetype": "text/x-python",
   "name": "python",
   "nbconvert_exporter": "python",
   "pygments_lexer": "ipython3",
   "version": "3.8.8"
  }
 },
 "nbformat": 4,
 "nbformat_minor": 5
}
