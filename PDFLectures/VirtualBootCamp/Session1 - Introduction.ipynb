{
 "cells": [
  {
   "cell_type": "markdown",
   "id": "377af544",
   "metadata": {},
   "source": [
    "#  DS-I Africa Python Boot Camp - 21 June 2023\n",
    "## Mandla Gwetu (mvgcollab@gmail.com)"
   ]
  },
  {
   "cell_type": "markdown",
   "id": "d4a2a66e",
   "metadata": {},
   "source": [
    "# Boot Camp Objectives\n",
    "* Present core concepts on Python programming **theory**\n",
    "* Introduce Google Colab as a **practical** Python programming tool\n",
    "* Promote interactive presentation **soft skills**\n",
    "* Prepare for the Deep Learning DS-I Africa course"
   ]
  },
  {
   "cell_type": "markdown",
   "id": "3d62336d",
   "metadata": {},
   "source": [
    "# Learning Outcomes\n",
    "* Explain basic Python concepts - know the basics and where to get help\n",
    "* Implement Python notebooks on Google Colab - flexible on colab: import, create, run, export and share notebooks\n",
    "* Utilise basics of main scientific Python packages - use core features of numpi, scitlearn, pandas, keras, sklearn and matplotlib"
   ]
  },
  {
   "cell_type": "markdown",
   "id": "6ac3c1ff",
   "metadata": {},
   "source": [
    "# Why Learn Python?\n",
    "* Flexibility in processing data\n",
    "* Fast becoming Data Science industry standard tool - a lot of support online\n",
    "* Relatively easier that other programming languages\n",
    "* Rich set of tools and libraries"
   ]
  },
  {
   "cell_type": "markdown",
   "id": "2657f736",
   "metadata": {},
   "source": [
    "# How to Get Started Using Python\n",
    "1. Install [Anaconda](https://www.anaconda.com/download) on your machine\n",
    "2. Create a Google account then access [Google Colab](https://colab.research.google.com/)\n",
    "3. Install an IDE such as [Pycharm](https://www.jetbrains.com/pycharm/download/)\n",
    "4. Consult Python [documentation](https://docs.python.org/)\n",
    "5. Prepare, Practise and Present"
   ]
  },
  {
   "cell_type": "markdown",
   "id": "8dc35b7a",
   "metadata": {},
   "source": [
    "# Some Technical Terms\n",
    "* RAM, CPU, GPU and TPU\n",
    "* Runtime\n",
    "* Mount a drive\n",
    "* IDE\n",
    "* GitHub\n",
    "* Program, module and package\n",
    "* Jupyter notebooks vs labs"
   ]
  },
  {
   "cell_type": "markdown",
   "id": "79641868",
   "metadata": {},
   "source": [
    "# Notebooks\n",
    "* Comprise of cells (code and markdown) - to enable interactive presentations\n",
    "* Implemented as a webserver (on localhost, network or the internet e.g. Google Colab)\n",
    "* Run in a kernel that keeps track of program state\n",
    "* Can be exported to HTML, Latex and PDF\n",
    "* Can incorporate widgets for richer user interaction"
   ]
  },
  {
   "cell_type": "markdown",
   "id": "239c277a",
   "metadata": {},
   "source": [
    "# Google Colab\n",
    "* Generally hosted on Google Drive - notebooks are stored in *My Drive > Colab Notebooks*. Can also be saved to GitHub\n",
    "* Notebooks can be shared with other Google accounts via editor, viewer and commenter permission modes\n",
    "* Notebook settings include language (Python 3 or R) and accelerator (None, GPU or TPU)\n",
    "* Colab limitations:\n",
    " * resource availability is subject to demand\n",
    " * 12 hour session time limit\n",
    " * No warranties on resource robustness\n",
    " * No inbuilt persistant storage - temporary storage deleted at the end of the session"
   ]
  },
  {
   "cell_type": "markdown",
   "id": "05dda617",
   "metadata": {},
   "source": [
    "# Google Colab Exercise\n",
    "* Upload the ShareColabNotebookExercise and open it in Colab\n",
    "* Make Edits 1-6 as described in the notebook\n",
    "* Run the entire notebook to test if it works correctly\n",
    "* Invite a classmate to edit the notebook by sharing it with them. The classmate should make the following changes:\n",
    " * Add a sentence below the text that describes BMI, to explain how to use the notebook\n",
    " * Delete all Edit instructions.\n",
    " * Write at least 3 comments to describe some of the code statements in the codeblocks\n",
    " * Save the notebook.\n",
    "* Refresh your notebook to see the changes made by your classmate\n",
    "* Remove the permissions assigned to your classmate - they will no longer be able to make changes to your notebook."
   ]
  },
  {
   "cell_type": "markdown",
   "id": "3cd24ef2",
   "metadata": {},
   "source": [
    "# Additional Useful Resources\n",
    "* https://wordpress.com/support/markdown-quick-reference/\n",
    "* https://www.online-python.com/ \n",
    "* https://www.pythonhealthdatascience.com/\n",
    "* https://ipywidgets.readthedocs.io/en/stable/how-to/index.html\n"
   ]
  },
  {
   "cell_type": "code",
   "execution_count": null,
   "id": "54bd2e01",
   "metadata": {},
   "outputs": [],
   "source": []
  }
 ],
 "metadata": {
  "kernelspec": {
   "display_name": "Python 3",
   "language": "python",
   "name": "python3"
  },
  "language_info": {
   "codemirror_mode": {
    "name": "ipython",
    "version": 3
   },
   "file_extension": ".py",
   "mimetype": "text/x-python",
   "name": "python",
   "nbconvert_exporter": "python",
   "pygments_lexer": "ipython3",
   "version": "3.8.8"
  }
 },
 "nbformat": 4,
 "nbformat_minor": 5
}
